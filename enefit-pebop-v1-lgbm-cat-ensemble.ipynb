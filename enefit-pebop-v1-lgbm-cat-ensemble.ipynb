{
 "cells": [
  {
   "cell_type": "markdown",
   "id": "0be2ba0a",
   "metadata": {
    "papermill": {
     "duration": 0.011669,
     "end_time": "2023-12-27T12:29:58.889501",
     "exception": false,
     "start_time": "2023-12-27T12:29:58.877832",
     "status": "completed"
    },
    "tags": []
   },
   "source": [
    "### The feature engineering functions and the baseline are taken from [this notebook](https://www.kaggle.com/code/ahmedabdulwahab/pandas-data-description-and-starters-guide)"
   ]
  },
  {
   "cell_type": "markdown",
   "id": "0120de3b",
   "metadata": {
    "papermill": {
     "duration": 0.011089,
     "end_time": "2023-12-27T12:29:58.912350",
     "exception": false,
     "start_time": "2023-12-27T12:29:58.901261",
     "status": "completed"
    },
    "tags": []
   },
   "source": [
    "## Importing Libraries"
   ]
  },
  {
   "cell_type": "code",
   "execution_count": 1,
   "id": "b414809e",
   "metadata": {
    "execution": {
     "iopub.execute_input": "2023-12-27T12:29:58.935069Z",
     "iopub.status.busy": "2023-12-27T12:29:58.934766Z",
     "iopub.status.idle": "2023-12-27T12:30:04.937742Z",
     "shell.execute_reply": "2023-12-27T12:30:04.936853Z"
    },
    "papermill": {
     "duration": 6.017004,
     "end_time": "2023-12-27T12:30:04.940187",
     "exception": false,
     "start_time": "2023-12-27T12:29:58.923183",
     "status": "completed"
    },
    "tags": []
   },
   "outputs": [
    {
     "name": "stderr",
     "output_type": "stream",
     "text": [
      "/opt/conda/lib/python3.10/site-packages/scipy/__init__.py:146: UserWarning: A NumPy version >=1.16.5 and <1.23.0 is required for this version of SciPy (detected version 1.24.3\n",
      "  warnings.warn(f\"A NumPy version >={np_minversion} and <{np_maxversion}\"\n",
      "/opt/conda/lib/python3.10/site-packages/dask/dataframe/_pyarrow_compat.py:23: UserWarning: You are using pyarrow version 11.0.0 which is known to be insecure. See https://www.cve.org/CVERecord?id=CVE-2023-47248 for further details. Please upgrade to pyarrow>=14.0.1 or install pyarrow-hotfix to patch your current version.\n",
      "  warnings.warn(\n"
     ]
    }
   ],
   "source": [
    "import pandas as pd\n",
    "import numpy as np\n",
    "import matplotlib.pyplot as plt\n",
    "import seaborn as sns\n",
    "from datetime import datetime, date, timedelta\n",
    "import enefit\n",
    "from sklearn.metrics import mean_absolute_error\n",
    "from lightgbm import LGBMRegressor\n",
    "from sklearn.ensemble import VotingRegressor\n",
    "\n",
    "import warnings\n",
    "warnings.filterwarnings('ignore')\n"
   ]
  },
  {
   "cell_type": "code",
   "execution_count": 2,
   "id": "966ac0b8",
   "metadata": {
    "execution": {
     "iopub.execute_input": "2023-12-27T12:30:04.965531Z",
     "iopub.status.busy": "2023-12-27T12:30:04.965230Z",
     "iopub.status.idle": "2023-12-27T12:30:28.697439Z",
     "shell.execute_reply": "2023-12-27T12:30:28.696419Z"
    },
    "papermill": {
     "duration": 23.747241,
     "end_time": "2023-12-27T12:30:28.699866",
     "exception": false,
     "start_time": "2023-12-27T12:30:04.952625",
     "status": "completed"
    },
    "tags": []
   },
   "outputs": [],
   "source": [
    "train= pd.read_csv('/kaggle/input/predict-energy-behavior-of-prosumers/train.csv')\n",
    "gas_df= pd.read_csv('/kaggle/input/predict-energy-behavior-of-prosumers/gas_prices.csv')\n",
    "electricity_df= pd.read_csv('/kaggle/input/predict-energy-behavior-of-prosumers/electricity_prices.csv')\n",
    "client_df= pd.read_csv('/kaggle/input/predict-energy-behavior-of-prosumers/client.csv')\n",
    "fw_df= pd.read_csv('/kaggle/input/predict-energy-behavior-of-prosumers/forecast_weather.csv')\n",
    "hw_df= pd.read_csv('/kaggle/input/predict-energy-behavior-of-prosumers/historical_weather.csv')\n",
    "locations= pd.read_csv('/kaggle/input/locations/county_lon_lats.csv')"
   ]
  },
  {
   "cell_type": "markdown",
   "id": "555aead2",
   "metadata": {
    "execution": {
     "iopub.execute_input": "2023-12-16T18:58:24.479531Z",
     "iopub.status.busy": "2023-12-16T18:58:24.479216Z",
     "iopub.status.idle": "2023-12-16T18:58:24.646928Z",
     "shell.execute_reply": "2023-12-16T18:58:24.646014Z",
     "shell.execute_reply.started": "2023-12-16T18:58:24.479495Z"
    },
    "papermill": {
     "duration": 0.011756,
     "end_time": "2023-12-27T12:30:28.723121",
     "exception": false,
     "start_time": "2023-12-27T12:30:28.711365",
     "status": "completed"
    },
    "tags": []
   },
   "source": [
    "## Feature Engineering functions"
   ]
  },
  {
   "cell_type": "code",
   "execution_count": 3,
   "id": "9b758d99",
   "metadata": {
    "execution": {
     "iopub.execute_input": "2023-12-27T12:30:28.746122Z",
     "iopub.status.busy": "2023-12-27T12:30:28.745791Z",
     "iopub.status.idle": "2023-12-27T12:30:28.770783Z",
     "shell.execute_reply": "2023-12-27T12:30:28.769920Z"
    },
    "papermill": {
     "duration": 0.038705,
     "end_time": "2023-12-27T12:30:28.772600",
     "exception": false,
     "start_time": "2023-12-27T12:30:28.733895",
     "status": "completed"
    },
    "tags": []
   },
   "outputs": [],
   "source": [
    "def feat_eng_train(data, client, hist_weather,forecast_weather, electricity, gas, locations):\n",
    "\n",
    "    data= data[data['target'].notnull()] \n",
    "    \n",
    "    data['datetime'] = pd.to_datetime(data['datetime'], utc=True)\n",
    "    \n",
    "    electricity = electricity.rename(columns= {'forecast_date' : 'datetime'})\n",
    "    \n",
    "    electricity['datetime'] = pd.to_datetime(electricity['datetime'], utc= True)\n",
    "    \n",
    "    # Decreasing (data_block_id) in client data because it's 2 steps ahead from train's data (data_block_id)\n",
    "    client['data_block_id'] -= 2\n",
    "    \n",
    "    # locations is a custom data that will help replace (latitude) and (longitude)columns by the counties for each coordination \n",
    "    locations = locations.drop('Unnamed: 0', axis= 1) \n",
    "        \n",
    "    forecast_weather[['latitude', 'longitude']] = forecast_weather[['latitude','longitude']].astype(float).round(1)\n",
    "        \n",
    "    forecast_weather= forecast_weather.merge(locations, how='left',on=['longitude','latitude'])\n",
    "        \n",
    "    forecast_weather.dropna(axis= 0, inplace= True)    \n",
    "    \n",
    "    forecast_weather['county'] = forecast_weather['county'].astype('int64')\n",
    "    \n",
    "    forecast_weather.drop(['origin_datetime', 'latitude','longitude', 'hours_ahead', 'data_block_id'], axis=1, inplace= True)\n",
    "    \n",
    "    forecast_weather.rename(columns={'forecast_datetime': 'datetime'}, inplace= True)\n",
    "    \n",
    "    forecast_weather['datetime']= pd.to_datetime(forecast_weather['datetime'], utc= True)\n",
    "    \n",
    "    # Grouping all forecast_weather columns mean values by hour, So each hour will have the mean values of the forecast_weather columns\n",
    "    forecast_weather_datetime= forecast_weather.groupby([forecast_weather['datetime'].dt.to_period('h')])[list(forecast_weather.drop(['county','datetime'], axis= 1).columns)].mean().reset_index()\n",
    "    \n",
    "    forecast_weather_datetime['datetime']= pd.to_datetime(forecast_weather_datetime['datetime'].dt.to_timestamp(), utc=True)\n",
    "    \n",
    "    # Grouping all forecast_weather columns mean values by hour and county, So each hour and county will have the mean values of the forecast_weather columns for each county\n",
    "    forecast_weather_datetime_county= forecast_weather.groupby(['county',forecast_weather['datetime'].dt.to_period('h')])[list(forecast_weather.drop(['county','datetime'], axis= 1).columns)].mean().reset_index()\n",
    "    \n",
    "    forecast_weather_datetime_county['datetime']= pd.to_datetime(forecast_weather_datetime_county['datetime'].dt.to_timestamp(), utc=True)\n",
    "           \n",
    "    hist_weather[['latitude', 'longitude']] = hist_weather[['latitude', 'longitude']].astype(float).round(1)\n",
    "\n",
    "    hist_weather= hist_weather.merge(locations, how='left', on=['longitude','latitude'])    \n",
    "    \n",
    "    hist_weather.dropna(axis= 0, inplace= True)\n",
    "    \n",
    "    hist_weather.drop(['latitude', 'longitude'], axis=1, inplace= True)\n",
    "  \n",
    "    hist_weather['county'] = hist_weather['county'].astype('int64')\n",
    "    \n",
    "    hist_weather['datetime']= pd.to_datetime(hist_weather['datetime'], utc= True)\n",
    "    \n",
    "    # Grouping all historical_weather columns mean values by hour, So each hour will have the mean values of the historical_weather columns\n",
    "    hist_weather_datetime= hist_weather.groupby([hist_weather['datetime'].dt.to_period('h')])[list(hist_weather.drop(['county','datetime','data_block_id'], axis= 1).columns)].mean().reset_index()    \n",
    "    \n",
    "   \n",
    "    hist_weather_datetime['datetime']= pd.to_datetime(hist_weather_datetime['datetime'].dt.to_timestamp(), utc=True)\n",
    "    \n",
    "    hist_weather_datetime= hist_weather_datetime.merge(hist_weather[['datetime', 'data_block_id']], how='left', on='datetime')\n",
    "    \n",
    "    #  Grouping all historical_weather columns mean values by hour and county, So each hour will have the mean values of the historical_weather columns for each county\n",
    "    hist_weather_datetime_county= hist_weather.groupby(['county',hist_weather['datetime'].dt.to_period('h')])[list(hist_weather.drop(['county','datetime', 'data_block_id'], axis= 1).columns)].mean().reset_index() \n",
    "    \n",
    "    hist_weather_datetime_county['datetime']= pd.to_datetime(hist_weather_datetime_county['datetime'].dt.to_timestamp(), utc=True)\n",
    "    \n",
    "    hist_weather_datetime_county= hist_weather_datetime_county.merge(hist_weather[['datetime', 'data_block_id']], how='left', on='datetime')\n",
    "    \n",
    "    data['year'] = data['datetime'].dt.year\n",
    "    data['month'] = data['datetime'].dt.month\n",
    "    data['day'] = data['datetime'].dt.day\n",
    "    data['hour'] = data['datetime'].dt.hour\n",
    "    data['dayofweek'] = data['datetime'].dt.dayofweek\n",
    "    data['dayofyear']= data['datetime'].dt.dayofyear\n",
    "    \n",
    "    electricity['hour'] = electricity['datetime'].dt.hour\n",
    "\n",
    "    data= data.merge(client.drop(columns = ['date']), how='left', on=['data_block_id', 'county', 'is_business', 'product_type'])\n",
    "    data= data.merge(gas[['data_block_id', 'lowest_price_per_mwh', 'highest_price_per_mwh']], how='left', on='data_block_id')\n",
    "    data= data.merge(electricity[['euros_per_mwh', 'hour', 'data_block_id']], how='left', on=['hour', 'data_block_id']) \n",
    "    data= data.merge(forecast_weather_datetime, how='left', on=['datetime'])  \n",
    "    data= data.merge(forecast_weather_datetime_county, how='left', on=['datetime', 'county'],suffixes= ('_fcast_mean','_fcast_mean_by_county'))\n",
    "    \n",
    "    hist_weather_datetime['hour']= hist_weather_datetime['datetime'].dt.hour\n",
    "    hist_weather_datetime_county['hour']= hist_weather_datetime_county['datetime'].dt.hour\n",
    "\n",
    "    hist_weather_datetime.drop_duplicates(inplace=True)\n",
    "    hist_weather_datetime_county.drop_duplicates(inplace=True)\n",
    "    hist_weather_datetime.drop('datetime', axis= 1, inplace= True)\n",
    "    hist_weather_datetime_county.drop('datetime', axis= 1, inplace= True)\n",
    "\n",
    "    data= data.merge(hist_weather_datetime, how='left', on=['data_block_id', 'hour'])\n",
    "    data= data.merge(hist_weather_datetime_county, how='left', on=['data_block_id', 'county', 'hour'],suffixes= ('_hist_mean','_hist_mean_by_county'))\n",
    "    data= data.groupby(['year', 'day', 'hour'], as_index=False).apply(lambda x: x.ffill().bfill()).reset_index()\n",
    "    data.drop(['level_0', 'level_1', 'row_id', 'data_block_id'], axis= 1, inplace= True)\n",
    "    \n",
    "    return data"
   ]
  },
  {
   "cell_type": "code",
   "execution_count": 4,
   "id": "1452980d",
   "metadata": {
    "execution": {
     "iopub.execute_input": "2023-12-27T12:30:28.795379Z",
     "iopub.status.busy": "2023-12-27T12:30:28.795117Z",
     "iopub.status.idle": "2023-12-27T12:30:28.800586Z",
     "shell.execute_reply": "2023-12-27T12:30:28.799758Z"
    },
    "papermill": {
     "duration": 0.019002,
     "end_time": "2023-12-27T12:30:28.802483",
     "exception": false,
     "start_time": "2023-12-27T12:30:28.783481",
     "status": "completed"
    },
    "tags": []
   },
   "outputs": [],
   "source": [
    "def create_revealed_targets_train(data, N_day_lags):\n",
    "    # Creating lagged target values => A target value depends on what was a target value n days ago\n",
    "    \n",
    "    original_datetime = data['datetime']\n",
    "    \n",
    "    revealed_targets = data[['datetime', 'prediction_unit_id', 'is_consumption', 'target']].copy()\n",
    "    \n",
    "    #Creating revealed targets for 'n' days lag\n",
    "    for day_lag in range(2, N_day_lags+1):\n",
    "        revealed_targets['datetime'] = original_datetime + pd.DateOffset(day_lag)\n",
    "        data = data.merge(revealed_targets, how='left', on = ['datetime', 'prediction_unit_id', 'is_consumption'],suffixes = ('', f'_{day_lag}_days_ago'))\n",
    "    return data"
   ]
  },
  {
   "cell_type": "code",
   "execution_count": 5,
   "id": "654d6435",
   "metadata": {
    "execution": {
     "iopub.execute_input": "2023-12-27T12:30:28.825463Z",
     "iopub.status.busy": "2023-12-27T12:30:28.825198Z",
     "iopub.status.idle": "2023-12-27T12:31:01.570685Z",
     "shell.execute_reply": "2023-12-27T12:31:01.569861Z"
    },
    "papermill": {
     "duration": 32.759498,
     "end_time": "2023-12-27T12:31:01.573075",
     "exception": false,
     "start_time": "2023-12-27T12:30:28.813577",
     "status": "completed"
    },
    "tags": []
   },
   "outputs": [],
   "source": [
    "# Применение функции предварительной обработки данных к обучающему набору. Эта функция интегрирует информацию из различных источников данных, \n",
    "# таких как данные клиентов, аппаратного и программного обеспечения, электроэнергии и газа, а также местоположений.\n",
    "train = feat_eng_train(train, client_df, hw_df, fw_df, electricity_df, gas_df, locations)\n",
    "\n",
    "# Создание лагов для переменных за последние N дней (в данном случае 7 дней). Это помогает модели учесть временные зависимости в данных.\n",
    "N_day_lags = 7\n",
    "train = create_revealed_targets_train(train, N_day_lags=N_day_lags)\n",
    "\n",
    "# Преобразование столбца 'datetime' в числовой формат. Это может быть необходимо для обработки дат и времени моделями машинного обучения,\n",
    "# которые обычно работают с числовыми данными.\n",
    "train['datetime'] = train['datetime'].astype('int64')\n",
    "\n",
    "\n"
   ]
  },
  {
   "cell_type": "markdown",
   "id": "2572b674",
   "metadata": {
    "papermill": {
     "duration": 0.010764,
     "end_time": "2023-12-27T12:31:01.595148",
     "exception": false,
     "start_time": "2023-12-27T12:31:01.584384",
     "status": "completed"
    },
    "tags": []
   },
   "source": [
    "## Data Transformation"
   ]
  },
  {
   "cell_type": "markdown",
   "id": "dc08579d",
   "metadata": {
    "papermill": {
     "duration": 0.010691,
     "end_time": "2023-12-27T12:31:01.616705",
     "exception": false,
     "start_time": "2023-12-27T12:31:01.606014",
     "status": "completed"
    },
    "tags": []
   },
   "source": [
    "В этом коде используется преобразование временных признаков, таких как час и день в году, в синусоидальные и косинусоидальные значения, чтобы лучше отобразить их циклическую природу. Кроме того, вычисляются статистические характеристики целевой переменной, такие как среднее значение, стандартное отклонение и дисперсия, на основе исторических данных.\n"
   ]
  },
  {
   "cell_type": "code",
   "execution_count": 6,
   "id": "2d659bac",
   "metadata": {
    "execution": {
     "iopub.execute_input": "2023-12-27T12:31:01.640660Z",
     "iopub.status.busy": "2023-12-27T12:31:01.639936Z",
     "iopub.status.idle": "2023-12-27T12:31:03.626541Z",
     "shell.execute_reply": "2023-12-27T12:31:03.625455Z"
    },
    "papermill": {
     "duration": 2.001441,
     "end_time": "2023-12-27T12:31:03.629007",
     "exception": false,
     "start_time": "2023-12-27T12:31:01.627566",
     "status": "completed"
    },
    "tags": []
   },
   "outputs": [],
   "source": [
    "# Преобразование часа дня в синусоидальные и косинусоидальные значения для учета цикличности времени суток\n",
    "train['sin_hour'] = (np.pi * np.sin(train['hour']) / 12)  # Синусоидальное представление часа дня\n",
    "train['cos_hour'] = (np.pi * np.cos(train['hour']) / 12)  # Косинусоидальное представление часа дня\n",
    "\n",
    "# Преобразование дня в году в синусоидальные и косинусоидальные значения для учета цикличности времени в году\n",
    "train['sin_dayofyear'] = (np.pi * np.sin(train['dayofyear']) / 183)  # Синусоидальное представление дня в году\n",
    "train['cos_dayofyear'] = (np.pi * np.cos(train['dayofyear']) / 183)  # Косинусоидальное представление дня в году\n",
    "\n",
    "# Расчет статистических характеристик целевой переменной на основе исторических данных\n",
    "train['target_mean'] = train[[f'target_{i}_days_ago' for i in range(2, N_day_lags+1)]].mean(1)  # Среднее значение целевой переменной за предыдущие дни\n",
    "train['target_std'] = train[[f'target_{i}_days_ago' for i in range(2, N_day_lags+1)]].std(1)  # Стандартное отклонение целевой переменной за предыдущие дни\n",
    "train['target_var'] = train[[f'target_{i}_days_ago' for i in range(2, N_day_lags+1)]].var(1)  # Дисперсия целевой переменной за предыдущие дни\n"
   ]
  },
  {
   "cell_type": "code",
   "execution_count": 7,
   "id": "07427aa3",
   "metadata": {
    "execution": {
     "iopub.execute_input": "2023-12-27T12:31:03.653877Z",
     "iopub.status.busy": "2023-12-27T12:31:03.653128Z",
     "iopub.status.idle": "2023-12-27T12:31:04.186943Z",
     "shell.execute_reply": "2023-12-27T12:31:04.186092Z"
    },
    "papermill": {
     "duration": 0.548502,
     "end_time": "2023-12-27T12:31:04.189207",
     "exception": false,
     "start_time": "2023-12-27T12:31:03.640705",
     "status": "completed"
    },
    "tags": []
   },
   "outputs": [],
   "source": [
    "#Log the columns with outliers\n",
    "to_log= ['installed_capacity', 'euros_per_mwh', 'temperature_fcast_mean', 'dewpoint_fcast_mean','cloudcover_high_fcast_mean', 'cloudcover_low_fcast_mean', 'cloudcover_mid_fcast_mean', 'cloudcover_total_fcast_mean','10_metre_u_wind_component_fcast_mean', '10_metre_v_wind_component_fcast_mean', 'direct_solar_radiation_fcast_mean','snowfall_fcast_mean', 'total_precipitation_fcast_mean', 'temperature_fcast_mean_by_county', 'dewpoint_fcast_mean_by_county','cloudcover_high_fcast_mean_by_county', 'cloudcover_low_fcast_mean_by_county', 'cloudcover_mid_fcast_mean_by_county','cloudcover_total_fcast_mean_by_county', '10_metre_u_wind_component_fcast_mean_by_county', '10_metre_v_wind_component_fcast_mean_by_county','surface_solar_radiation_downwards_fcast_mean_by_county', 'snowfall_fcast_mean_by_county', 'total_precipitation_fcast_mean_by_county','rain_hist_mean', 'snowfall_hist_mean', 'windspeed_10m_hist_mean_by_county', 'target_2_days_ago', 'target_3_days_ago','target_4_days_ago', 'target_5_days_ago', 'target_6_days_ago', 'target_7_days_ago', 'target_mean', 'target_std']\n",
    "for i in to_log:\n",
    "    train[f\"log_{i}\"]= np.where((train[i])!= 0, np.log(train[i]),0)"
   ]
  },
  {
   "cell_type": "code",
   "execution_count": 8,
   "id": "3e5dcc27",
   "metadata": {
    "execution": {
     "iopub.execute_input": "2023-12-27T12:31:04.217028Z",
     "iopub.status.busy": "2023-12-27T12:31:04.216345Z",
     "iopub.status.idle": "2023-12-27T12:31:04.828443Z",
     "shell.execute_reply": "2023-12-27T12:31:04.827450Z"
    },
    "papermill": {
     "duration": 0.626544,
     "end_time": "2023-12-27T12:31:04.830898",
     "exception": false,
     "start_time": "2023-12-27T12:31:04.204354",
     "status": "completed"
    },
    "tags": []
   },
   "outputs": [],
   "source": [
    "train=train[train.year >= 2022]"
   ]
  },
  {
   "cell_type": "markdown",
   "id": "f582e882",
   "metadata": {
    "papermill": {
     "duration": 0.010749,
     "end_time": "2023-12-27T12:31:04.853507",
     "exception": false,
     "start_time": "2023-12-27T12:31:04.842758",
     "status": "completed"
    },
    "tags": []
   },
   "source": [
    "## Training columns"
   ]
  },
  {
   "cell_type": "code",
   "execution_count": 9,
   "id": "9a230d69",
   "metadata": {
    "execution": {
     "iopub.execute_input": "2023-12-27T12:31:04.877117Z",
     "iopub.status.busy": "2023-12-27T12:31:04.876420Z",
     "iopub.status.idle": "2023-12-27T12:31:06.992835Z",
     "shell.execute_reply": "2023-12-27T12:31:06.992029Z"
    },
    "papermill": {
     "duration": 2.130835,
     "end_time": "2023-12-27T12:31:06.995181",
     "exception": false,
     "start_time": "2023-12-27T12:31:04.864346",
     "status": "completed"
    },
    "tags": []
   },
   "outputs": [],
   "source": [
    "#Storing training features into numpy arrays\n",
    "X= train.drop('target', axis= 1).values\n",
    "y= train['target']\n",
    "\n",
    "#Storing production targets into an array itself | Will seperate it into another model\n",
    "X2= train[train['is_consumption'] == 0].drop('target', axis= 1).values\n",
    "y2= train[train['is_consumption'] == 0]['target']"
   ]
  },
  {
   "cell_type": "markdown",
   "id": "02c45113",
   "metadata": {
    "papermill": {
     "duration": 0.010706,
     "end_time": "2023-12-27T12:31:07.017406",
     "exception": false,
     "start_time": "2023-12-27T12:31:07.006700",
     "status": "completed"
    },
    "tags": []
   },
   "source": [
    "## Training models"
   ]
  },
  {
   "cell_type": "markdown",
   "id": "c249773f",
   "metadata": {
    "papermill": {
     "duration": 0.011245,
     "end_time": "2023-12-27T12:31:07.083119",
     "exception": false,
     "start_time": "2023-12-27T12:31:07.071874",
     "status": "completed"
    },
    "tags": []
   },
   "source": [
    "### MOD1 Params"
   ]
  },
  {
   "cell_type": "code",
   "execution_count": 10,
   "id": "2f265777",
   "metadata": {
    "execution": {
     "iopub.execute_input": "2023-12-27T12:31:07.107158Z",
     "iopub.status.busy": "2023-12-27T12:31:07.106430Z",
     "iopub.status.idle": "2023-12-27T12:31:07.110943Z",
     "shell.execute_reply": "2023-12-27T12:31:07.110105Z"
    },
    "papermill": {
     "duration": 0.018684,
     "end_time": "2023-12-27T12:31:07.112780",
     "exception": false,
     "start_time": "2023-12-27T12:31:07.094096",
     "status": "completed"
    },
    "tags": []
   },
   "outputs": [],
   "source": [
    "# p1={'n_estimators':4000,'verbose': -1,'random_state':73,'objective':'tweedie','learning_rate': 0.030339736147758608, 'colsample_bytree': 0.9263063801074632, 'colsample_bynode': 0.4527058263857967, 'reg_alpha': 3.62802063709343, 'reg_lambda': 1.6506819544194185, 'min_data_in_leaf': 201, 'max_depth': 15, 'device':'gpu',\"n_jobs\" : 4,'num_leaves': 455}\n",
    "# p2={'n_estimators':4000,'verbose': -1,'random_state':73,'objective':'tweedie','learning_rate': 0.033090718804096083, 'colsample_bytree': 0.9499770953943448, 'colsample_bynode': 0.4670163857441046, 'reg_aplha': 3.9694606555680705, 'reg_lambda': 1.925712107567988, 'min_data_in_leaf': 223, 'max_depth': 18, 'device':'gpu',\"n_jobs\" : 4,'num_leaves': 465}\n",
    "# p3={'n_estimators':4000,'verbose': -1,'random_state':73,'objective':'tweedie','learning_rate': 0.035559490612977255, 'colsample_bytree': 0.9682791614810814, 'colsample_bynode': 0.4722023075509447, 'reg_aplha': 4.1562458539834125, 'reg_lambda': 2.265053303366992, 'min_data_in_leaf': 254, 'max_depth': 19, 'device':'gpu',\"n_jobs\" : 4,'num_leaves': 475}\n",
    "# p4={'n_estimators':4000,'verbose': -1,'random_state':73,'objective':'tweedie','learning_rate': 0.038908744594789185, 'colsample_bytree': 0.9864875442500248, 'colsample_bynode': 0.4832525869590394, 'reg_aplha': 4.358459131925572, 'reg_lambda': 2.355521088983217, 'min_data_in_leaf': 289, 'max_depth': 21, 'device':'gpu',\"n_jobs\" : 4,'num_leaves': 485}"
   ]
  },
  {
   "cell_type": "code",
   "execution_count": 11,
   "id": "90256990",
   "metadata": {
    "execution": {
     "iopub.execute_input": "2023-12-27T12:31:07.135828Z",
     "iopub.status.busy": "2023-12-27T12:31:07.135587Z",
     "iopub.status.idle": "2023-12-27T12:31:07.140209Z",
     "shell.execute_reply": "2023-12-27T12:31:07.139342Z"
    },
    "papermill": {
     "duration": 0.018271,
     "end_time": "2023-12-27T12:31:07.142191",
     "exception": false,
     "start_time": "2023-12-27T12:31:07.123920",
     "status": "completed"
    },
    "tags": []
   },
   "outputs": [],
   "source": [
    "# p1={'n_estimators':4000,'lambda_l1': 5.065645378814257, 'lambda_l2': 9.81159370218779, 'verbose': -1,'random_state':73,'objective':'tweedie','learning_rate': 0.030339736147758608, 'colsample_bytree': 0.9263063801074632, 'colsample_bynode': 0.4527058263857967, 'reg_alpha': 3.62802063709343, 'reg_lambda': 1.6506819544194185, 'min_data_in_leaf': 201, 'max_depth': 15, 'device':'gpu',\"n_jobs\" : 4,'num_leaves': 455}\n",
    "# p2={'n_estimators':4000,'lambda_l1': 7.065645378814257, 'lambda_l2': 9.81159370218779, 'verbose': -1,'random_state':73,'objective':'tweedie','learning_rate': 0.033090718804096083, 'colsample_bytree': 0.9499770953943448, 'colsample_bynode': 0.4670163857441046, 'reg_aplha': 3.9694606555680705, 'reg_lambda': 1.925712107567988, 'min_data_in_leaf': 223, 'max_depth': 18, 'device':'gpu',\"n_jobs\" : 4,'num_leaves': 465}\n",
    "# p3={'n_estimators':4000,'lambda_l1': 8.065645378814257, 'lambda_l2': 6.81159370218779, 'verbose': -1,'random_state':73,'objective':'tweedie','learning_rate': 0.035559490612977255, 'colsample_bytree': 0.9682791614810814, 'colsample_bynode': 0.4722023075509447, 'reg_aplha': 4.1562458539834125, 'reg_lambda': 2.265053303366992, 'min_data_in_leaf': 254, 'max_depth': 19, 'device':'gpu',\"n_jobs\" : 4,'num_leaves': 475}\n",
    "# p4={'n_estimators':4000,'lambda_l1': 6.065645378814257, 'lambda_l2': 5.81159370218779, 'verbose': -1,'random_state':73,'objective':'tweedie','learning_rate': 0.038908744594789185, 'colsample_bytree': 0.9864875442500248, 'colsample_bynode': 0.4832525869590394, 'reg_aplha': 4.358459131925572, 'reg_lambda': 2.355521088983217, 'min_data_in_leaf': 289, 'max_depth': 21, 'device':'gpu',\"n_jobs\" : 4,'num_leaves': 485}"
   ]
  },
  {
   "cell_type": "code",
   "execution_count": 12,
   "id": "6eafc776",
   "metadata": {
    "execution": {
     "iopub.execute_input": "2023-12-27T12:31:07.165399Z",
     "iopub.status.busy": "2023-12-27T12:31:07.165127Z",
     "iopub.status.idle": "2023-12-27T12:31:07.174342Z",
     "shell.execute_reply": "2023-12-27T12:31:07.173501Z"
    },
    "papermill": {
     "duration": 0.023033,
     "end_time": "2023-12-27T12:31:07.176168",
     "exception": false,
     "start_time": "2023-12-27T12:31:07.153135",
     "status": "completed"
    },
    "tags": []
   },
   "outputs": [],
   "source": [
    "p1={'n_estimators':9000,'lambda_l1': 5.065645378814257, 'lambda_l2': 9.81159370218779, 'verbose': -1,'random_state':73,'objective':'mae','learning_rate': 0.030339736147758608, 'colsample_bytree': 0.9263063801074632, 'colsample_bynode': 0.4527058263857967, 'reg_alpha': 3.62802063709343, 'reg_lambda': 1.6506819544194185, 'min_data_in_leaf': 201, 'max_depth': 15, 'device':'gpu',\"n_jobs\" : 4,'num_leaves': 455}\n",
    "p2={'n_estimators':9000,'lambda_l1': 7.065645378814257, 'lambda_l2': 9.81159370218779, 'verbose': -1,'random_state':73,'objective':'mae','learning_rate': 0.033090718804096083, 'colsample_bytree': 0.9499770953943448, 'colsample_bynode': 0.4670163857441046, 'reg_aplha': 3.9694606555680705, 'reg_lambda': 1.925712107567988, 'min_data_in_leaf': 223, 'max_depth': 18, 'device':'gpu',\"n_jobs\" : 4,'num_leaves': 465}\n",
    "p3={'n_estimators':9000,'lambda_l1': 8.065645378814257, 'lambda_l2': 6.81159370218779, 'verbose': -1,'random_state':73,'objective':'mae','learning_rate': 0.035559490612977255, 'colsample_bytree': 0.9682791614810814, 'colsample_bynode': 0.4722023075509447, 'reg_aplha': 4.1562458539834125, 'reg_lambda': 2.265053303366992, 'min_data_in_leaf': 254, 'max_depth': 19, 'device':'gpu',\"n_jobs\" : 4,'num_leaves': 475}\n",
    "p4={'n_estimators':9000,'lambda_l1': 6.065645378814257, 'lambda_l2': 5.81159370218779, 'verbose': -1,'random_state':73,'objective':'mae','learning_rate': 0.038908744594789185, 'colsample_bytree': 0.9864875442500248, 'colsample_bynode': 0.4832525869590394, 'reg_aplha': 4.358459131925572, 'reg_lambda': 2.355521088983217, 'min_data_in_leaf': 289, 'max_depth': 21, 'device':'gpu',\"n_jobs\" : 4,'num_leaves': 485}"
   ]
  },
  {
   "cell_type": "code",
   "execution_count": 13,
   "id": "e80ce7f5",
   "metadata": {
    "execution": {
     "iopub.execute_input": "2023-12-27T12:31:07.199326Z",
     "iopub.status.busy": "2023-12-27T12:31:07.198805Z",
     "iopub.status.idle": "2023-12-27T12:31:07.203778Z",
     "shell.execute_reply": "2023-12-27T12:31:07.202943Z"
    },
    "papermill": {
     "duration": 0.018491,
     "end_time": "2023-12-27T12:31:07.205727",
     "exception": false,
     "start_time": "2023-12-27T12:31:07.187236",
     "status": "completed"
    },
    "tags": []
   },
   "outputs": [],
   "source": [
    "# # #LGB\n",
    "# p1={'n_estimators': 1000,'device':'gpu','verbose': -1,'objective': 'l2','learning_rate': 0.06258413085998576, 'colsample_bytree': 0.6527661140701613, 'colsample_bynode': 0.8106858631408332, 'lambda_l1': 5.065645378814257, 'lambda_l2': 9.81159370218779, 'min_data_in_leaf': 192, 'max_depth': 10, 'max_bin': 1800}\n",
    "# p2={'n_estimators': 1000,'device':'gpu','verbose': -1,'objective': 'l2','learning_rate': 0.0632167263149817, 'colsample_bytree': 0.6958033941948067, 'colsample_bynode': 0.6030801666196094, 'lambda_l1': 7.137580620471935, 'lambda_l2': 9.348169401713742, 'min_data_in_leaf': 74, 'max_depth': 11, 'max_bin': 530}\n",
    "# p3={'n_estimators': 1000,'device':'gpu','verbose': -1,'objective': 'l2','learning_rate': 0.061236402165228264, 'colsample_bytree': 0.81427095118471, 'colsample_bynode': 0.6097376843527067, 'lambda_l1': 6.360490880385201, 'lambda_l2': 9.954136008333839, 'min_data_in_leaf': 238, 'max_depth': 13, 'max_bin': 649}\n",
    "# p4={'n_estimators': 1000,'device':'gpu','verbose': -1,'objective': 'l2','learning_rate': 0.06753282378023663, 'colsample_bytree': 0.7508715107428325, 'colsample_bynode': 0.6831819500325418, 'lambda_l1': 8.679353563755722, 'lambda_l2': 6.105008696961338, 'min_data_in_leaf': 198, 'max_depth': 15, 'max_bin': 835}\n",
    "# p5={'n_estimators': 1000,'device':'gpu','verbose': -1,'objective': 'l2','learning_rate': 0.05129380742257108, 'colsample_bytree': 0.5101576947777211, 'colsample_bynode': 0.8052639518604396, 'lambda_l1': 8.087311995794915, 'lambda_l2': 5.067361158677095, 'min_data_in_leaf': 222, 'max_depth': 8, 'max_bin': 97}\n",
    "# p6={'n_estimators': 900,'device':'gpu','verbose': -1,'objective': 'l2','learning_rate': 0.05689066836106983,'colsample_bytree': 0.8915976762048253,'colsample_bynode': 0.5942203285139224,'lambda_l1': 3.6277555139102864,'lambda_l2': 1.6591278779517808,'min_data_in_leaf' : 186,'max_depth': 9,'max_bin': 813,}\n",
    "\n",
    "# p7={'n_estimators': 1483,'verbose': -1,'objective': 'l2','learning_rate': 0.047463300970785334,'colsample_bytree': 0.5765687465069222,'colsample_bynode': 0.745770069784652,'lambda_l1': 5.569745853175777,'lambda_l2': 0.9051759724463506,'min_data_in_leaf' : 186,'max_depth': 11,'max_bin': 738,}\n",
    "# # p7={'min_data_in_leaf': 138,   'num_leaves': 68, 'feature_fraction': 0.8935903906747225, 'bagging_fraction': 0.9688930607563444, 'bagging_freq': 1}"
   ]
  },
  {
   "cell_type": "code",
   "execution_count": 14,
   "id": "8ed3970f",
   "metadata": {
    "execution": {
     "iopub.execute_input": "2023-12-27T12:31:07.229181Z",
     "iopub.status.busy": "2023-12-27T12:31:07.228505Z",
     "iopub.status.idle": "2023-12-27T12:31:07.233023Z",
     "shell.execute_reply": "2023-12-27T12:31:07.232207Z"
    },
    "papermill": {
     "duration": 0.018348,
     "end_time": "2023-12-27T12:31:07.234906",
     "exception": false,
     "start_time": "2023-12-27T12:31:07.216558",
     "status": "completed"
    },
    "tags": []
   },
   "outputs": [],
   "source": [
    "lgbp1=LGBMRegressor(**p1)\n",
    "lgbp2=LGBMRegressor(**p2)\n",
    "lgbp3=LGBMRegressor(**p3)\n",
    "lgbp4=LGBMRegressor(**p4)"
   ]
  },
  {
   "cell_type": "markdown",
   "id": "4d65a48c",
   "metadata": {
    "papermill": {
     "duration": 0.010649,
     "end_time": "2023-12-27T12:31:07.256577",
     "exception": false,
     "start_time": "2023-12-27T12:31:07.245928",
     "status": "completed"
    },
    "tags": []
   },
   "source": [
    "### MOD2 params"
   ]
  },
  {
   "cell_type": "code",
   "execution_count": 15,
   "id": "a604bc62",
   "metadata": {
    "execution": {
     "iopub.execute_input": "2023-12-27T12:31:07.280816Z",
     "iopub.status.busy": "2023-12-27T12:31:07.280321Z",
     "iopub.status.idle": "2023-12-27T12:31:07.284886Z",
     "shell.execute_reply": "2023-12-27T12:31:07.284087Z"
    },
    "papermill": {
     "duration": 0.018684,
     "end_time": "2023-12-27T12:31:07.286830",
     "exception": false,
     "start_time": "2023-12-27T12:31:07.268146",
     "status": "completed"
    },
    "tags": []
   },
   "outputs": [],
   "source": [
    "# n1={'n_iter':4000,'verbose': -1,'random_state':73,'objective':'tweedie','learning_rate': 0.010339736147758608, 'colsample_bytree': 0.8893063801074632, 'colsample_bynode': 0.4527058263857967, 'lambda_l1': 3.62802063709343, 'lambda_l2': 1.6506819544194185, 'min_data_in_leaf': 63, 'max_depth': 12, 'device':'gpu', 'min_data_per_groups': 59,'num_leaves': 455,\"n_jobs\" : 4}\n",
    "# n2={'n_iter':4000,'verbose': -1,'random_state':73,'objective':'tweedie','learning_rate': 0.012090718804096083, 'colsample_bytree': 0.9099770953943448, 'colsample_bynode': 0.4670163857441046, 'lambda_l1': 3.8694606555680705, 'lambda_l2': 1.925712107567988, 'min_data_in_leaf': 68, 'max_depth': 14, 'device':'gpu', 'min_data_per_groups': 69,'num_leaves': 465,\"n_jobs\" : 4}\n",
    "# n3={'n_iter':4000,'verbose': -1,'random_state':73,'objective':'tweedie','learning_rate': 0.014559490612977255, 'colsample_bytree': 0.9282791614810814, 'colsample_bynode': 0.4722023075509447, 'lambda_l1': 4.0562458539834125, 'lambda_l2': 2.265053303366992, 'min_data_in_leaf': 73, 'max_depth': 17, 'device':'gpu', 'min_data_per_groups': 79,'num_leaves': 475,\"n_jobs\" : 4}\n",
    "# n4={'n_iter':4000,'verbose': -1,'random_state':73,'objective':'tweedie','learning_rate': 0.016908744594789185, 'colsample_bytree': 0.9534875442500248, 'colsample_bynode': 0.4832525869590394, 'lambda_l1': 4.258459131925572, 'lambda_l2': 2.355521088983217, 'min_data_in_leaf': 78, 'max_depth': 21, 'device':'gpu', 'min_data_per_groups': 89,'num_leaves': 485,\"n_jobs\" : 4}"
   ]
  },
  {
   "cell_type": "code",
   "execution_count": 16,
   "id": "17e6b61a",
   "metadata": {
    "execution": {
     "iopub.execute_input": "2023-12-27T12:31:07.310202Z",
     "iopub.status.busy": "2023-12-27T12:31:07.309509Z",
     "iopub.status.idle": "2023-12-27T12:31:07.313430Z",
     "shell.execute_reply": "2023-12-27T12:31:07.312620Z"
    },
    "papermill": {
     "duration": 0.017591,
     "end_time": "2023-12-27T12:31:07.315224",
     "exception": false,
     "start_time": "2023-12-27T12:31:07.297633",
     "status": "completed"
    },
    "tags": []
   },
   "outputs": [],
   "source": [
    "# !pip install catboost[gpu]"
   ]
  },
  {
   "cell_type": "code",
   "execution_count": 17,
   "id": "33c68504",
   "metadata": {
    "execution": {
     "iopub.execute_input": "2023-12-27T12:31:07.338301Z",
     "iopub.status.busy": "2023-12-27T12:31:07.338017Z",
     "iopub.status.idle": "2023-12-27T12:31:07.341438Z",
     "shell.execute_reply": "2023-12-27T12:31:07.340741Z"
    },
    "papermill": {
     "duration": 0.017162,
     "end_time": "2023-12-27T12:31:07.343479",
     "exception": false,
     "start_time": "2023-12-27T12:31:07.326317",
     "status": "completed"
    },
    "tags": []
   },
   "outputs": [],
   "source": [
    "# !pip install catboost-cuda\n"
   ]
  },
  {
   "cell_type": "code",
   "execution_count": 18,
   "id": "3fab8276",
   "metadata": {
    "execution": {
     "iopub.execute_input": "2023-12-27T12:31:07.366502Z",
     "iopub.status.busy": "2023-12-27T12:31:07.366238Z",
     "iopub.status.idle": "2023-12-27T12:31:07.756283Z",
     "shell.execute_reply": "2023-12-27T12:31:07.755517Z"
    },
    "papermill": {
     "duration": 0.404029,
     "end_time": "2023-12-27T12:31:07.758431",
     "exception": false,
     "start_time": "2023-12-27T12:31:07.354402",
     "status": "completed"
    },
    "tags": []
   },
   "outputs": [],
   "source": [
    "import catboost as cb  # Библиотека для градиентного бустинга"
   ]
  },
  {
   "cell_type": "code",
   "execution_count": 19,
   "id": "414abea6",
   "metadata": {
    "execution": {
     "iopub.execute_input": "2023-12-27T12:31:07.782910Z",
     "iopub.status.busy": "2023-12-27T12:31:07.782591Z",
     "iopub.status.idle": "2023-12-27T12:31:07.789685Z",
     "shell.execute_reply": "2023-12-27T12:31:07.788873Z"
    },
    "papermill": {
     "duration": 0.02107,
     "end_time": "2023-12-27T12:31:07.791580",
     "exception": false,
     "start_time": "2023-12-27T12:31:07.770510",
     "status": "completed"
    },
    "tags": []
   },
   "outputs": [],
   "source": [
    "c1={'task_type':'GPU','iterations': 1800,'eval_metric': 'MAE','learning_rate': 0.04094387403153919, 'depth': 9, 'l2_leaf_reg': 3, 'border_count': 160, 'random_strength': 2, 'bagging_temperature': 0.30238224812191056}\n",
    "c2={'task_type':'GPU','iterations': 1800,'eval_metric': 'MAE','learning_rate': 0.06054396656784583, 'depth': 11, 'l2_leaf_reg': 6, 'border_count': 134, 'random_strength': 9, 'bagging_temperature': 0.29607411641626996}\n",
    "c3 = {\n",
    "    'learning_rate': 0.12358952478027072,\n",
    "    'depth': 11,\n",
    "    'l2_leaf_reg': 8,\n",
    "    'border_count': 191,\n",
    "    'random_strength': 3,\n",
    "    'bagging_temperature': 0.41774414265586035,\n",
    "    'iterations': 1800,\n",
    "    'task_type':'GPU',\n",
    "    'eval_metric': 'MAE'\n",
    "}\n",
    "\n",
    "c4 = {\n",
    "    'learning_rate': 0.06258413085998576,\n",
    "    'depth': 10,\n",
    "    'l2_leaf_reg': 8,\n",
    "    'border_count': 211,\n",
    "    'random_strength': 6,\n",
    "    'bagging_temperature': 0.13029094645654574,\n",
    "    'iterations': 1800,\n",
    "    'task_type':'GPU',\n",
    "    'eval_metric': 'MAE'\n",
    "}"
   ]
  },
  {
   "cell_type": "code",
   "execution_count": 20,
   "id": "3ca06db6",
   "metadata": {
    "execution": {
     "iopub.execute_input": "2023-12-27T12:31:07.815750Z",
     "iopub.status.busy": "2023-12-27T12:31:07.815493Z",
     "iopub.status.idle": "2023-12-27T12:31:07.819881Z",
     "shell.execute_reply": "2023-12-27T12:31:07.819103Z"
    },
    "papermill": {
     "duration": 0.018565,
     "end_time": "2023-12-27T12:31:07.821732",
     "exception": false,
     "start_time": "2023-12-27T12:31:07.803167",
     "status": "completed"
    },
    "tags": []
   },
   "outputs": [],
   "source": [
    "# c1={'task_type': 'gpu','learning_rate': 0.04094387403153919, 'depth': 9, 'l2_leaf_reg': 3, 'border_count': 160, 'random_strength': 2, 'bagging_temperature': 0.30238224812191056}\n",
    "# c2={'task_type': 'gpu','learning_rate': 0.06054396656784583, 'depth': 11, 'l2_leaf_reg': 6, 'border_count': 134, 'random_strength': 9, 'bagging_temperature': 0.29607411641626996}\n",
    "# c3 = {\n",
    "#     'learning_rate': 0.12358952478027072,\n",
    "#     'depth': 11,\n",
    "#     'l2_leaf_reg': 8,\n",
    "#     'border_count': 191,\n",
    "#     'random_strength': 3,\n",
    "#     'bagging_temperature': 0.41774414265586035,\n",
    "#     'iterations': 1800,\n",
    "#     'eval_metric': 'MAE',\n",
    "#     'task_type': 'gpu',# Добавление поддержки GPU\n",
    "#     'cat_features': ['county', 'is_business', 'product_type', 'is_consumption', 'category_1']\n",
    "# }\n",
    "\n",
    "# c4 = {\n",
    "#     'learning_rate': 0.06258413085998576,\n",
    "#     'depth': 10,\n",
    "#     'l2_leaf_reg': 8,\n",
    "#     'border_count': 211,\n",
    "#     'random_strength': 6,\n",
    "#     'bagging_temperature': 0.13029094645654574,\n",
    "#     'iterations': 1800,\n",
    "#     'eval_metric': 'MAE',\n",
    "#     'task_type': 'gpu',\n",
    "#     'cat_features': ['county', 'is_business', 'product_type', 'is_consumption', 'category_1']\n",
    "# }"
   ]
  },
  {
   "cell_type": "code",
   "execution_count": 21,
   "id": "4756ff10",
   "metadata": {
    "execution": {
     "iopub.execute_input": "2023-12-27T12:31:07.844999Z",
     "iopub.status.busy": "2023-12-27T12:31:07.844738Z",
     "iopub.status.idle": "2023-12-27T12:31:07.852362Z",
     "shell.execute_reply": "2023-12-27T12:31:07.851579Z"
    },
    "papermill": {
     "duration": 0.021489,
     "end_time": "2023-12-27T12:31:07.854199",
     "exception": false,
     "start_time": "2023-12-27T12:31:07.832710",
     "status": "completed"
    },
    "tags": []
   },
   "outputs": [],
   "source": [
    "cat1=cb.CatBoostRegressor(**c3, random_state=41)\n",
    "cat2=cb.CatBoostRegressor(**c4, random_state=42)\n",
    "cat3=cb.CatBoostRegressor(**c3, random_state=43)\n",
    "cat4=cb.CatBoostRegressor(**c4, random_state=44)\n",
    "\n",
    "        "
   ]
  },
  {
   "cell_type": "code",
   "execution_count": 22,
   "id": "9ca6f993",
   "metadata": {
    "execution": {
     "iopub.execute_input": "2023-12-27T12:31:07.877244Z",
     "iopub.status.busy": "2023-12-27T12:31:07.876937Z",
     "iopub.status.idle": "2023-12-27T12:31:07.880448Z",
     "shell.execute_reply": "2023-12-27T12:31:07.879640Z"
    },
    "papermill": {
     "duration": 0.017328,
     "end_time": "2023-12-27T12:31:07.882452",
     "exception": false,
     "start_time": "2023-12-27T12:31:07.865124",
     "status": "completed"
    },
    "tags": []
   },
   "outputs": [],
   "source": [
    "# lgbn1=LGBMRegressor(**n1)\n",
    "# lgbn2=LGBMRegressor(**n2)\n",
    "# lgbn3=LGBMRegressor(**n3)\n",
    "# lgbn4=LGBMRegressor(**n4)"
   ]
  },
  {
   "cell_type": "code",
   "execution_count": 23,
   "id": "7cb4d1ba",
   "metadata": {
    "execution": {
     "iopub.execute_input": "2023-12-27T12:31:07.906138Z",
     "iopub.status.busy": "2023-12-27T12:31:07.905390Z",
     "iopub.status.idle": "2023-12-27T12:31:11.365831Z",
     "shell.execute_reply": "2023-12-27T12:31:11.364730Z"
    },
    "papermill": {
     "duration": 3.475564,
     "end_time": "2023-12-27T12:31:11.368964",
     "exception": false,
     "start_time": "2023-12-27T12:31:07.893400",
     "status": "completed"
    },
    "tags": []
   },
   "outputs": [],
   "source": [
    "from sklearn.model_selection import train_test_split\n",
    "from sklearn.metrics import mean_squared_error\n",
    "import lightgbm as lgb\n",
    "\n",
    "# Split your data\n",
    "Xtr, Xval, ytr, yval = train_test_split(X, y, test_size=0.2, random_state=73,shuffle=True)\n",
    "X2tr, X2val, y2tr, y2val = train_test_split(X2, y2, test_size=0.2, random_state=73,shuffle=True)"
   ]
  },
  {
   "cell_type": "markdown",
   "id": "53d334e6",
   "metadata": {
    "papermill": {
     "duration": 0.015985,
     "end_time": "2023-12-27T12:31:11.400403",
     "exception": false,
     "start_time": "2023-12-27T12:31:11.384418",
     "status": "completed"
    },
    "tags": []
   },
   "source": []
  },
  {
   "cell_type": "code",
   "execution_count": 24,
   "id": "ac5d8038",
   "metadata": {
    "execution": {
     "iopub.execute_input": "2023-12-27T12:31:11.429199Z",
     "iopub.status.busy": "2023-12-27T12:31:11.428709Z",
     "iopub.status.idle": "2023-12-27T14:41:29.424314Z",
     "shell.execute_reply": "2023-12-27T14:41:29.423203Z"
    },
    "papermill": {
     "duration": 7818.012303,
     "end_time": "2023-12-27T14:41:29.426778",
     "exception": false,
     "start_time": "2023-12-27T12:31:11.414475",
     "status": "completed"
    },
    "tags": []
   },
   "outputs": [
    {
     "name": "stdout",
     "output_type": "stream",
     "text": [
      "_______________________________________________________\n",
      "Start\n",
      "[LightGBM] [Warning] lambda_l1 is set=5.065645378814257, reg_alpha=3.62802063709343 will be ignored. Current value: lambda_l1=5.065645378814257\n",
      "[LightGBM] [Warning] lambda_l2 is set=9.81159370218779, reg_lambda=1.6506819544194185 will be ignored. Current value: lambda_l2=9.81159370218779\n",
      "[LightGBM] [Warning] min_data_in_leaf is set=201, min_child_samples=20 will be ignored. Current value: min_data_in_leaf=201\n",
      "Training until validation scores don't improve for 100 rounds\n",
      "[100]\tvalid_0's l1: 65.0574\n",
      "[200]\tvalid_0's l1: 40.5589\n",
      "[300]\tvalid_0's l1: 37.5291\n",
      "[400]\tvalid_0's l1: 35.9537\n",
      "[500]\tvalid_0's l1: 34.9035\n",
      "[600]\tvalid_0's l1: 33.9711\n",
      "[700]\tvalid_0's l1: 33.1919\n",
      "[800]\tvalid_0's l1: 32.2862\n",
      "[900]\tvalid_0's l1: 31.5759\n",
      "[1000]\tvalid_0's l1: 31.0136\n",
      "[1100]\tvalid_0's l1: 30.4663\n",
      "[1200]\tvalid_0's l1: 30.0168\n",
      "[1300]\tvalid_0's l1: 29.7302\n",
      "[1400]\tvalid_0's l1: 29.4174\n",
      "[1500]\tvalid_0's l1: 29.1375\n",
      "[1600]\tvalid_0's l1: 28.8402\n",
      "[1700]\tvalid_0's l1: 28.6531\n",
      "[1800]\tvalid_0's l1: 28.5128\n",
      "[1900]\tvalid_0's l1: 28.4002\n",
      "[2000]\tvalid_0's l1: 28.3003\n",
      "[2100]\tvalid_0's l1: 28.1386\n",
      "[2200]\tvalid_0's l1: 28.0313\n",
      "[2300]\tvalid_0's l1: 27.9429\n",
      "[2400]\tvalid_0's l1: 27.8569\n",
      "[2500]\tvalid_0's l1: 27.7575\n",
      "[2600]\tvalid_0's l1: 27.6569\n",
      "[2700]\tvalid_0's l1: 27.5578\n",
      "[2800]\tvalid_0's l1: 27.4919\n",
      "[2900]\tvalid_0's l1: 27.4357\n",
      "[3000]\tvalid_0's l1: 27.3617\n",
      "[3100]\tvalid_0's l1: 27.3083\n",
      "[3200]\tvalid_0's l1: 27.2421\n",
      "[3300]\tvalid_0's l1: 27.2088\n",
      "[3400]\tvalid_0's l1: 27.1804\n",
      "[3500]\tvalid_0's l1: 27.1461\n",
      "[3600]\tvalid_0's l1: 27.1142\n",
      "[3700]\tvalid_0's l1: 27.0808\n",
      "[3800]\tvalid_0's l1: 27.054\n",
      "[3900]\tvalid_0's l1: 27.0322\n",
      "[4000]\tvalid_0's l1: 26.9838\n",
      "[4100]\tvalid_0's l1: 26.959\n",
      "[4200]\tvalid_0's l1: 26.9357\n",
      "[4300]\tvalid_0's l1: 26.9061\n",
      "[4400]\tvalid_0's l1: 26.8766\n",
      "[4500]\tvalid_0's l1: 26.851\n",
      "[4600]\tvalid_0's l1: 26.8241\n",
      "[4700]\tvalid_0's l1: 26.7882\n",
      "[4800]\tvalid_0's l1: 26.7762\n",
      "[4900]\tvalid_0's l1: 26.7472\n",
      "[5000]\tvalid_0's l1: 26.7322\n",
      "[5100]\tvalid_0's l1: 26.7245\n",
      "[5200]\tvalid_0's l1: 26.7045\n",
      "[5300]\tvalid_0's l1: 26.6816\n",
      "[5400]\tvalid_0's l1: 26.6689\n",
      "[5500]\tvalid_0's l1: 26.6382\n",
      "[5600]\tvalid_0's l1: 26.6244\n",
      "[5700]\tvalid_0's l1: 26.6143\n",
      "[5800]\tvalid_0's l1: 26.6013\n",
      "[5900]\tvalid_0's l1: 26.5877\n",
      "[6000]\tvalid_0's l1: 26.5698\n",
      "[6100]\tvalid_0's l1: 26.5472\n",
      "[6200]\tvalid_0's l1: 26.5252\n",
      "[6300]\tvalid_0's l1: 26.5131\n",
      "[6400]\tvalid_0's l1: 26.4975\n",
      "[6500]\tvalid_0's l1: 26.4883\n",
      "[6600]\tvalid_0's l1: 26.4781\n",
      "[6700]\tvalid_0's l1: 26.4568\n",
      "[6800]\tvalid_0's l1: 26.4305\n",
      "[6900]\tvalid_0's l1: 26.3992\n",
      "[7000]\tvalid_0's l1: 26.3825\n",
      "[7100]\tvalid_0's l1: 26.3421\n",
      "[7200]\tvalid_0's l1: 26.3193\n",
      "[7300]\tvalid_0's l1: 26.3027\n",
      "[7400]\tvalid_0's l1: 26.257\n",
      "[7500]\tvalid_0's l1: 26.2075\n",
      "[7600]\tvalid_0's l1: 26.1615\n",
      "[7700]\tvalid_0's l1: 26.129\n",
      "[7800]\tvalid_0's l1: 26.0942\n",
      "[7900]\tvalid_0's l1: 26.0486\n",
      "[8000]\tvalid_0's l1: 26.0242\n",
      "[8100]\tvalid_0's l1: 26.0029\n",
      "[8200]\tvalid_0's l1: 25.9625\n",
      "[8300]\tvalid_0's l1: 25.91\n",
      "[8400]\tvalid_0's l1: 25.8395\n",
      "[8500]\tvalid_0's l1: 25.8096\n",
      "[8600]\tvalid_0's l1: 25.7878\n",
      "[8700]\tvalid_0's l1: 25.7644\n",
      "[8800]\tvalid_0's l1: 25.7367\n",
      "[8900]\tvalid_0's l1: 25.7041\n",
      "[9000]\tvalid_0's l1: 25.6732\n",
      "Did not meet early stopping. Best iteration is:\n",
      "[9000]\tvalid_0's l1: 25.6732\n",
      "_______________________________________________________\n",
      "Start\n",
      "Training until validation scores don't improve for 100 rounds\n",
      "[100]\tvalid_0's l1: 60.0657\n",
      "[200]\tvalid_0's l1: 39.5834\n",
      "[300]\tvalid_0's l1: 36.5224\n",
      "[400]\tvalid_0's l1: 34.8251\n",
      "[500]\tvalid_0's l1: 34.0736\n",
      "[600]\tvalid_0's l1: 33.2822\n",
      "[700]\tvalid_0's l1: 32.7188\n",
      "[800]\tvalid_0's l1: 32.0287\n",
      "[900]\tvalid_0's l1: 31.4624\n",
      "[1000]\tvalid_0's l1: 31.1414\n",
      "[1100]\tvalid_0's l1: 30.6115\n",
      "[1200]\tvalid_0's l1: 30.2896\n",
      "[1300]\tvalid_0's l1: 29.9856\n",
      "[1400]\tvalid_0's l1: 29.6813\n",
      "[1500]\tvalid_0's l1: 29.4417\n",
      "[1600]\tvalid_0's l1: 29.1671\n",
      "[1700]\tvalid_0's l1: 28.8472\n",
      "[1800]\tvalid_0's l1: 28.6953\n",
      "[1900]\tvalid_0's l1: 28.4904\n",
      "[2000]\tvalid_0's l1: 28.2963\n",
      "[2100]\tvalid_0's l1: 28.1291\n",
      "[2200]\tvalid_0's l1: 27.9997\n",
      "[2300]\tvalid_0's l1: 27.8175\n",
      "[2400]\tvalid_0's l1: 27.6676\n",
      "[2500]\tvalid_0's l1: 27.5637\n",
      "[2600]\tvalid_0's l1: 27.4699\n",
      "[2700]\tvalid_0's l1: 27.3935\n",
      "[2800]\tvalid_0's l1: 27.3262\n",
      "[2900]\tvalid_0's l1: 27.2417\n",
      "[3000]\tvalid_0's l1: 27.193\n",
      "[3100]\tvalid_0's l1: 27.1401\n",
      "[3200]\tvalid_0's l1: 27.1044\n",
      "[3300]\tvalid_0's l1: 27.0632\n",
      "[3400]\tvalid_0's l1: 27.0349\n",
      "[3500]\tvalid_0's l1: 26.9998\n",
      "[3600]\tvalid_0's l1: 26.9756\n",
      "[3700]\tvalid_0's l1: 26.9554\n",
      "[3800]\tvalid_0's l1: 26.9349\n",
      "[3900]\tvalid_0's l1: 26.9133\n",
      "[4000]\tvalid_0's l1: 26.8863\n",
      "[4100]\tvalid_0's l1: 26.8233\n",
      "[4200]\tvalid_0's l1: 26.7874\n",
      "[4300]\tvalid_0's l1: 26.7585\n",
      "[4400]\tvalid_0's l1: 26.7311\n",
      "[4500]\tvalid_0's l1: 26.6668\n",
      "[4600]\tvalid_0's l1: 26.6561\n",
      "[4700]\tvalid_0's l1: 26.6439\n",
      "[4800]\tvalid_0's l1: 26.6127\n",
      "[4900]\tvalid_0's l1: 26.5989\n",
      "[5000]\tvalid_0's l1: 26.583\n",
      "[5100]\tvalid_0's l1: 26.5654\n",
      "[5200]\tvalid_0's l1: 26.5509\n",
      "[5300]\tvalid_0's l1: 26.5164\n",
      "[5400]\tvalid_0's l1: 26.4968\n",
      "[5500]\tvalid_0's l1: 26.4803\n",
      "[5600]\tvalid_0's l1: 26.4673\n",
      "[5700]\tvalid_0's l1: 26.4584\n",
      "[5800]\tvalid_0's l1: 26.4379\n",
      "[5900]\tvalid_0's l1: 26.427\n",
      "[6000]\tvalid_0's l1: 26.409\n",
      "[6100]\tvalid_0's l1: 26.3973\n",
      "[6200]\tvalid_0's l1: 26.385\n",
      "[6300]\tvalid_0's l1: 26.3631\n",
      "[6400]\tvalid_0's l1: 26.3487\n",
      "[6500]\tvalid_0's l1: 26.3348\n",
      "[6600]\tvalid_0's l1: 26.3255\n",
      "[6700]\tvalid_0's l1: 26.3098\n",
      "[6800]\tvalid_0's l1: 26.2924\n",
      "[6900]\tvalid_0's l1: 26.2691\n",
      "[7000]\tvalid_0's l1: 26.2467\n",
      "[7100]\tvalid_0's l1: 26.2286\n",
      "[7200]\tvalid_0's l1: 26.2074\n",
      "[7300]\tvalid_0's l1: 26.1828\n",
      "[7400]\tvalid_0's l1: 26.1715\n",
      "[7500]\tvalid_0's l1: 26.1574\n",
      "[7600]\tvalid_0's l1: 26.1494\n",
      "[7700]\tvalid_0's l1: 26.1319\n",
      "[7800]\tvalid_0's l1: 26.1156\n",
      "[7900]\tvalid_0's l1: 26.104\n",
      "[8000]\tvalid_0's l1: 26.0955\n",
      "[8100]\tvalid_0's l1: 26.0861\n",
      "[8200]\tvalid_0's l1: 26.0604\n",
      "[8300]\tvalid_0's l1: 26.0555\n",
      "[8400]\tvalid_0's l1: 26.0461\n",
      "[8500]\tvalid_0's l1: 26.0369\n",
      "[8600]\tvalid_0's l1: 26.0287\n",
      "[8700]\tvalid_0's l1: 26.0169\n",
      "[8800]\tvalid_0's l1: 26.0024\n",
      "[8900]\tvalid_0's l1: 25.9903\n",
      "[9000]\tvalid_0's l1: 25.9741\n",
      "Did not meet early stopping. Best iteration is:\n",
      "[9000]\tvalid_0's l1: 25.9741\n",
      "_______________________________________________________\n",
      "Start\n",
      "Training until validation scores don't improve for 100 rounds\n",
      "[100]\tvalid_0's l1: 55.6642\n",
      "[200]\tvalid_0's l1: 38.6836\n",
      "[300]\tvalid_0's l1: 35.902\n",
      "[400]\tvalid_0's l1: 34.4102\n",
      "[500]\tvalid_0's l1: 33.2983\n",
      "[600]\tvalid_0's l1: 32.7457\n",
      "[700]\tvalid_0's l1: 32.352\n",
      "[800]\tvalid_0's l1: 31.626\n",
      "[900]\tvalid_0's l1: 30.8729\n",
      "[1000]\tvalid_0's l1: 30.3064\n",
      "[1100]\tvalid_0's l1: 29.8323\n",
      "[1200]\tvalid_0's l1: 29.4057\n",
      "[1300]\tvalid_0's l1: 29.0509\n",
      "[1400]\tvalid_0's l1: 28.8226\n",
      "[1500]\tvalid_0's l1: 28.5684\n",
      "[1600]\tvalid_0's l1: 28.355\n",
      "[1700]\tvalid_0's l1: 28.1647\n",
      "[1800]\tvalid_0's l1: 27.9786\n",
      "[1900]\tvalid_0's l1: 27.7989\n",
      "[2000]\tvalid_0's l1: 27.701\n",
      "[2100]\tvalid_0's l1: 27.5882\n",
      "[2200]\tvalid_0's l1: 27.4504\n",
      "[2300]\tvalid_0's l1: 27.3321\n",
      "[2400]\tvalid_0's l1: 27.2094\n",
      "[2500]\tvalid_0's l1: 27.0944\n",
      "[2600]\tvalid_0's l1: 26.9992\n",
      "[2700]\tvalid_0's l1: 26.9369\n",
      "[2800]\tvalid_0's l1: 26.836\n",
      "[2900]\tvalid_0's l1: 26.7625\n",
      "[3000]\tvalid_0's l1: 26.6829\n",
      "[3100]\tvalid_0's l1: 26.5633\n",
      "[3200]\tvalid_0's l1: 26.4883\n",
      "[3300]\tvalid_0's l1: 26.4296\n",
      "[3400]\tvalid_0's l1: 26.384\n",
      "[3500]\tvalid_0's l1: 26.3395\n",
      "[3600]\tvalid_0's l1: 26.2579\n",
      "[3700]\tvalid_0's l1: 26.1972\n",
      "[3800]\tvalid_0's l1: 26.1532\n",
      "[3900]\tvalid_0's l1: 26.1167\n",
      "[4000]\tvalid_0's l1: 26.0626\n",
      "[4100]\tvalid_0's l1: 26.0349\n",
      "[4200]\tvalid_0's l1: 25.9808\n",
      "[4300]\tvalid_0's l1: 25.9107\n",
      "[4400]\tvalid_0's l1: 25.8814\n",
      "[4500]\tvalid_0's l1: 25.8559\n",
      "[4600]\tvalid_0's l1: 25.8353\n",
      "[4700]\tvalid_0's l1: 25.8184\n",
      "[4800]\tvalid_0's l1: 25.7841\n",
      "[4900]\tvalid_0's l1: 25.7547\n",
      "[5000]\tvalid_0's l1: 25.7366\n",
      "[5100]\tvalid_0's l1: 25.7098\n",
      "[5200]\tvalid_0's l1: 25.6794\n",
      "[5300]\tvalid_0's l1: 25.6472\n",
      "[5400]\tvalid_0's l1: 25.6128\n",
      "[5500]\tvalid_0's l1: 25.5798\n",
      "[5600]\tvalid_0's l1: 25.5613\n",
      "[5700]\tvalid_0's l1: 25.5519\n",
      "[5800]\tvalid_0's l1: 25.5393\n",
      "[5900]\tvalid_0's l1: 25.527\n",
      "[6000]\tvalid_0's l1: 25.4992\n",
      "[6100]\tvalid_0's l1: 25.4705\n",
      "[6200]\tvalid_0's l1: 25.4559\n",
      "[6300]\tvalid_0's l1: 25.4321\n",
      "[6400]\tvalid_0's l1: 25.4065\n",
      "[6500]\tvalid_0's l1: 25.3719\n",
      "[6600]\tvalid_0's l1: 25.3498\n",
      "[6700]\tvalid_0's l1: 25.3345\n",
      "[6800]\tvalid_0's l1: 25.3253\n",
      "[6900]\tvalid_0's l1: 25.3024\n",
      "[7000]\tvalid_0's l1: 25.2797\n",
      "[7100]\tvalid_0's l1: 25.2534\n",
      "[7200]\tvalid_0's l1: 25.2298\n",
      "[7300]\tvalid_0's l1: 25.2135\n",
      "[7400]\tvalid_0's l1: 25.1923\n",
      "[7500]\tvalid_0's l1: 25.1743\n",
      "[7600]\tvalid_0's l1: 25.1489\n",
      "[7700]\tvalid_0's l1: 25.1273\n",
      "[7800]\tvalid_0's l1: 25.1187\n",
      "[7900]\tvalid_0's l1: 25.11\n",
      "[8000]\tvalid_0's l1: 25.0885\n",
      "[8100]\tvalid_0's l1: 25.0584\n",
      "[8200]\tvalid_0's l1: 25.0421\n",
      "[8300]\tvalid_0's l1: 25.0199\n",
      "[8400]\tvalid_0's l1: 25.0073\n",
      "[8500]\tvalid_0's l1: 24.9995\n",
      "[8600]\tvalid_0's l1: 24.9937\n",
      "[8700]\tvalid_0's l1: 24.9839\n",
      "[8800]\tvalid_0's l1: 24.9738\n",
      "[8900]\tvalid_0's l1: 24.96\n",
      "[9000]\tvalid_0's l1: 24.9467\n",
      "Did not meet early stopping. Best iteration is:\n",
      "[9000]\tvalid_0's l1: 24.9467\n",
      "_______________________________________________________\n",
      "Start\n",
      "Training until validation scores don't improve for 100 rounds\n",
      "[100]\tvalid_0's l1: 51.2521\n",
      "[200]\tvalid_0's l1: 37.8995\n",
      "[300]\tvalid_0's l1: 35.2186\n",
      "[400]\tvalid_0's l1: 33.5698\n",
      "[500]\tvalid_0's l1: 32.5458\n",
      "[600]\tvalid_0's l1: 31.6924\n",
      "[700]\tvalid_0's l1: 30.8008\n",
      "[800]\tvalid_0's l1: 30.1231\n",
      "[900]\tvalid_0's l1: 29.7215\n",
      "[1000]\tvalid_0's l1: 29.4475\n",
      "[1100]\tvalid_0's l1: 29.1691\n",
      "[1200]\tvalid_0's l1: 28.8432\n",
      "[1300]\tvalid_0's l1: 28.6658\n",
      "[1400]\tvalid_0's l1: 28.4368\n",
      "[1500]\tvalid_0's l1: 28.2361\n",
      "[1600]\tvalid_0's l1: 28.0176\n",
      "[1700]\tvalid_0's l1: 27.9399\n",
      "[1800]\tvalid_0's l1: 27.7912\n",
      "[1900]\tvalid_0's l1: 27.7088\n",
      "[2000]\tvalid_0's l1: 27.6615\n",
      "[2100]\tvalid_0's l1: 27.6145\n",
      "[2200]\tvalid_0's l1: 27.5183\n",
      "[2300]\tvalid_0's l1: 27.4133\n",
      "[2400]\tvalid_0's l1: 27.3604\n",
      "[2500]\tvalid_0's l1: 27.2931\n",
      "[2600]\tvalid_0's l1: 27.2237\n",
      "[2700]\tvalid_0's l1: 27.1358\n",
      "[2800]\tvalid_0's l1: 27.0173\n",
      "[2900]\tvalid_0's l1: 26.9105\n",
      "[3000]\tvalid_0's l1: 26.8438\n",
      "[3100]\tvalid_0's l1: 26.7958\n",
      "[3200]\tvalid_0's l1: 26.7055\n",
      "[3300]\tvalid_0's l1: 26.6734\n",
      "[3400]\tvalid_0's l1: 26.6502\n",
      "[3500]\tvalid_0's l1: 26.5693\n",
      "[3600]\tvalid_0's l1: 26.5161\n",
      "[3700]\tvalid_0's l1: 26.4497\n",
      "[3800]\tvalid_0's l1: 26.4045\n",
      "[3900]\tvalid_0's l1: 26.342\n",
      "[4000]\tvalid_0's l1: 26.2635\n",
      "[4100]\tvalid_0's l1: 26.227\n",
      "[4200]\tvalid_0's l1: 26.1775\n",
      "[4300]\tvalid_0's l1: 26.1548\n",
      "[4400]\tvalid_0's l1: 26.1211\n",
      "[4500]\tvalid_0's l1: 26.0802\n",
      "[4600]\tvalid_0's l1: 26.0563\n",
      "[4700]\tvalid_0's l1: 26.0329\n",
      "[4800]\tvalid_0's l1: 26.0113\n",
      "[4900]\tvalid_0's l1: 25.9875\n",
      "[5000]\tvalid_0's l1: 25.9733\n",
      "[5100]\tvalid_0's l1: 25.9407\n",
      "[5200]\tvalid_0's l1: 25.9086\n",
      "[5300]\tvalid_0's l1: 25.8935\n",
      "[5400]\tvalid_0's l1: 25.8689\n",
      "[5500]\tvalid_0's l1: 25.8417\n",
      "[5600]\tvalid_0's l1: 25.8228\n",
      "[5700]\tvalid_0's l1: 25.7905\n",
      "[5800]\tvalid_0's l1: 25.7715\n",
      "[5900]\tvalid_0's l1: 25.7285\n",
      "[6000]\tvalid_0's l1: 25.7059\n",
      "[6100]\tvalid_0's l1: 25.6922\n",
      "[6200]\tvalid_0's l1: 25.675\n",
      "[6300]\tvalid_0's l1: 25.6552\n",
      "[6400]\tvalid_0's l1: 25.6376\n",
      "[6500]\tvalid_0's l1: 25.6163\n",
      "[6600]\tvalid_0's l1: 25.5801\n",
      "[6700]\tvalid_0's l1: 25.5499\n",
      "[6800]\tvalid_0's l1: 25.5283\n",
      "[6900]\tvalid_0's l1: 25.5059\n",
      "[7000]\tvalid_0's l1: 25.4796\n",
      "[7100]\tvalid_0's l1: 25.455\n",
      "[7200]\tvalid_0's l1: 25.4407\n",
      "[7300]\tvalid_0's l1: 25.4254\n",
      "[7400]\tvalid_0's l1: 25.4098\n",
      "[7500]\tvalid_0's l1: 25.3891\n",
      "[7600]\tvalid_0's l1: 25.3728\n",
      "[7700]\tvalid_0's l1: 25.3611\n",
      "[7800]\tvalid_0's l1: 25.3369\n",
      "[7900]\tvalid_0's l1: 25.3034\n",
      "[8000]\tvalid_0's l1: 25.285\n",
      "[8100]\tvalid_0's l1: 25.2684\n",
      "[8200]\tvalid_0's l1: 25.2497\n",
      "[8300]\tvalid_0's l1: 25.2333\n",
      "[8400]\tvalid_0's l1: 25.2131\n",
      "[8500]\tvalid_0's l1: 25.2038\n",
      "[8600]\tvalid_0's l1: 25.1965\n",
      "[8700]\tvalid_0's l1: 25.171\n",
      "[8800]\tvalid_0's l1: 25.1648\n",
      "[8900]\tvalid_0's l1: 25.1579\n",
      "[9000]\tvalid_0's l1: 25.1469\n",
      "Did not meet early stopping. Best iteration is:\n",
      "[9000]\tvalid_0's l1: 25.1469\n"
     ]
    }
   ],
   "source": [
    "for lgbm_model in [lgbp1, lgbp2, lgbp3, lgbp4]:\n",
    "    print('_______________________________________________________')\n",
    "    print('Start')\n",
    "    lgbm_model.fit(Xtr, ytr, eval_set=[(Xval, yval)], callbacks=[\n",
    "            lgb.callback.early_stopping(stopping_rounds=100),\n",
    "            lgb.callback.log_evaluation(period=100),\n",
    "        ],)"
   ]
  },
  {
   "cell_type": "code",
   "execution_count": 25,
   "id": "729ab1a3",
   "metadata": {
    "execution": {
     "iopub.execute_input": "2023-12-27T14:41:29.506223Z",
     "iopub.status.busy": "2023-12-27T14:41:29.505887Z",
     "iopub.status.idle": "2023-12-27T14:41:29.635424Z",
     "shell.execute_reply": "2023-12-27T14:41:29.634570Z"
    },
    "papermill": {
     "duration": 0.171227,
     "end_time": "2023-12-27T14:41:29.637397",
     "exception": false,
     "start_time": "2023-12-27T14:41:29.466170",
     "status": "completed"
    },
    "tags": []
   },
   "outputs": [
    {
     "data": {
      "text/plain": [
       "239"
      ]
     },
     "execution_count": 25,
     "metadata": {},
     "output_type": "execute_result"
    }
   ],
   "source": [
    "import gc\n",
    "gc.collect()"
   ]
  },
  {
   "cell_type": "code",
   "execution_count": 26,
   "id": "ddaf1d0d",
   "metadata": {
    "execution": {
     "iopub.execute_input": "2023-12-27T14:41:29.717524Z",
     "iopub.status.busy": "2023-12-27T14:41:29.716960Z",
     "iopub.status.idle": "2023-12-27T14:41:29.721032Z",
     "shell.execute_reply": "2023-12-27T14:41:29.720225Z"
    },
    "papermill": {
     "duration": 0.045789,
     "end_time": "2023-12-27T14:41:29.722997",
     "exception": false,
     "start_time": "2023-12-27T14:41:29.677208",
     "status": "completed"
    },
    "tags": []
   },
   "outputs": [],
   "source": [
    "# for lgbm_model in [lgbn1, lgbn2, lgbn3, lgbn4]:\n",
    "#     print('_______________________________________________________')\n",
    "#     print('Start')\n",
    "#     lgbm_model.fit(X2tr, y2tr, eval_set=[(X2val, y2val)], callbacks=[\n",
    "#             lgb.callback.early_stopping(stopping_rounds=100),\n",
    "#             lgb.callback.log_evaluation(period=100),\n",
    "#         ],)"
   ]
  },
  {
   "cell_type": "code",
   "execution_count": 27,
   "id": "a68783fe",
   "metadata": {
    "execution": {
     "iopub.execute_input": "2023-12-27T14:41:29.801177Z",
     "iopub.status.busy": "2023-12-27T14:41:29.800865Z",
     "iopub.status.idle": "2023-12-27T14:53:06.140192Z",
     "shell.execute_reply": "2023-12-27T14:53:06.139122Z"
    },
    "papermill": {
     "duration": 696.381895,
     "end_time": "2023-12-27T14:53:06.143476",
     "exception": false,
     "start_time": "2023-12-27T14:41:29.761581",
     "status": "completed"
    },
    "tags": []
   },
   "outputs": [
    {
     "name": "stdout",
     "output_type": "stream",
     "text": [
      "_______________________________________________________\n",
      "Start\n"
     ]
    },
    {
     "name": "stderr",
     "output_type": "stream",
     "text": [
      "Default metric period is 5 because MAE is/are not implemented for GPU\n"
     ]
    },
    {
     "name": "stdout",
     "output_type": "stream",
     "text": [
      "0:\tlearn: 139.7504207\ttest: 140.9249899\tbest: 140.9249899 (0)\ttotal: 123ms\tremaining: 3m 41s\n",
      "100:\tlearn: 21.0900448\ttest: 22.6495723\tbest: 22.6495723 (100)\ttotal: 8.31s\tremaining: 2m 19s\n",
      "200:\tlearn: 17.6522656\ttest: 20.1852825\tbest: 20.1852825 (200)\ttotal: 16.6s\tremaining: 2m 11s\n",
      "300:\tlearn: 15.7710803\ttest: 18.9024644\tbest: 18.9024644 (300)\ttotal: 24.8s\tremaining: 2m 3s\n",
      "400:\tlearn: 14.4252694\ttest: 18.0869070\tbest: 18.0869070 (400)\ttotal: 33s\tremaining: 1m 55s\n",
      "500:\tlearn: 13.2964480\ttest: 17.4046346\tbest: 17.4046346 (500)\ttotal: 41.2s\tremaining: 1m 46s\n",
      "600:\tlearn: 12.4093983\ttest: 16.9244935\tbest: 16.9244935 (600)\ttotal: 49.5s\tremaining: 1m 38s\n",
      "700:\tlearn: 11.6146816\ttest: 16.4744447\tbest: 16.4744447 (700)\ttotal: 57.8s\tremaining: 1m 30s\n",
      "800:\tlearn: 10.9761706\ttest: 16.1311936\tbest: 16.1311936 (800)\ttotal: 1m 5s\tremaining: 1m 22s\n",
      "900:\tlearn: 10.3899222\ttest: 15.8350742\tbest: 15.8350742 (900)\ttotal: 1m 14s\tremaining: 1m 14s\n",
      "1000:\tlearn: 9.8941068\ttest: 15.6062225\tbest: 15.6062225 (1000)\ttotal: 1m 22s\tremaining: 1m 5s\n",
      "1100:\tlearn: 9.4242864\ttest: 15.3660142\tbest: 15.3660142 (1100)\ttotal: 1m 30s\tremaining: 57.6s\n",
      "1200:\tlearn: 8.9999289\ttest: 15.1579656\tbest: 15.1579656 (1200)\ttotal: 1m 39s\tremaining: 49.4s\n",
      "1300:\tlearn: 8.6154943\ttest: 14.9720203\tbest: 14.9720203 (1300)\ttotal: 1m 47s\tremaining: 41.2s\n",
      "1400:\tlearn: 8.2920569\ttest: 14.8217155\tbest: 14.8217155 (1400)\ttotal: 1m 55s\tremaining: 32.9s\n",
      "1500:\tlearn: 7.9532168\ttest: 14.6720221\tbest: 14.6720221 (1500)\ttotal: 2m 4s\tremaining: 24.7s\n",
      "1600:\tlearn: 7.6600823\ttest: 14.5394362\tbest: 14.5394362 (1600)\ttotal: 2m 12s\tremaining: 16.4s\n",
      "1700:\tlearn: 7.3896680\ttest: 14.4264442\tbest: 14.4264442 (1700)\ttotal: 2m 20s\tremaining: 8.18s\n",
      "1799:\tlearn: 7.1393358\ttest: 14.3148583\tbest: 14.3148583 (1799)\ttotal: 2m 28s\tremaining: 0us\n",
      "bestTest = 14.31485825\n",
      "bestIteration = 1799\n",
      "_______________________________________________________\n",
      "Start\n"
     ]
    },
    {
     "name": "stderr",
     "output_type": "stream",
     "text": [
      "Default metric period is 5 because MAE is/are not implemented for GPU\n"
     ]
    },
    {
     "name": "stdout",
     "output_type": "stream",
     "text": [
      "0:\tlearn: 147.3146559\ttest: 148.5351139\tbest: 148.5351139 (0)\ttotal: 72.1ms\tremaining: 2m 9s\n",
      "100:\tlearn: 25.0956081\ttest: 25.8249784\tbest: 25.8249784 (100)\ttotal: 5.16s\tremaining: 1m 26s\n",
      "200:\tlearn: 21.6176675\ttest: 22.8467713\tbest: 22.8467713 (200)\ttotal: 10.3s\tremaining: 1m 22s\n",
      "300:\tlearn: 19.8406078\ttest: 21.5022610\tbest: 21.5022610 (300)\ttotal: 15.5s\tremaining: 1m 17s\n",
      "400:\tlearn: 18.5158787\ttest: 20.5314182\tbest: 20.5314182 (400)\ttotal: 20.8s\tremaining: 1m 12s\n",
      "500:\tlearn: 17.5201586\ttest: 19.8198177\tbest: 19.8198177 (500)\ttotal: 25.9s\tremaining: 1m 7s\n",
      "600:\tlearn: 16.6899722\ttest: 19.2451783\tbest: 19.2451783 (600)\ttotal: 31s\tremaining: 1m 1s\n",
      "700:\tlearn: 15.9694715\ttest: 18.7584372\tbest: 18.7584372 (700)\ttotal: 36.2s\tremaining: 56.7s\n",
      "800:\tlearn: 15.3344134\ttest: 18.3371718\tbest: 18.3371718 (800)\ttotal: 41.3s\tremaining: 51.5s\n",
      "900:\tlearn: 14.8058054\ttest: 18.0031993\tbest: 18.0031993 (900)\ttotal: 46.5s\tremaining: 46.4s\n",
      "1000:\tlearn: 14.2899964\ttest: 17.6681024\tbest: 17.6681024 (1000)\ttotal: 51.7s\tremaining: 41.3s\n",
      "1100:\tlearn: 13.8177644\ttest: 17.3674565\tbest: 17.3674565 (1100)\ttotal: 56.8s\tremaining: 36.1s\n",
      "1200:\tlearn: 13.4073219\ttest: 17.1163925\tbest: 17.1163925 (1200)\ttotal: 1m 1s\tremaining: 30.9s\n",
      "1300:\tlearn: 12.9982596\ttest: 16.8642027\tbest: 16.8642027 (1300)\ttotal: 1m 7s\tremaining: 25.8s\n",
      "1400:\tlearn: 12.6272747\ttest: 16.6330581\tbest: 16.6330581 (1400)\ttotal: 1m 12s\tremaining: 20.6s\n",
      "1500:\tlearn: 12.3015210\ttest: 16.4435290\tbest: 16.4435290 (1500)\ttotal: 1m 17s\tremaining: 15.5s\n",
      "1600:\tlearn: 11.9826329\ttest: 16.2513545\tbest: 16.2513545 (1600)\ttotal: 1m 22s\tremaining: 10.3s\n",
      "1700:\tlearn: 11.7025176\ttest: 16.0880602\tbest: 16.0880602 (1700)\ttotal: 1m 27s\tremaining: 5.11s\n",
      "1799:\tlearn: 11.4230212\ttest: 15.9263973\tbest: 15.9263973 (1799)\ttotal: 1m 33s\tremaining: 0us\n",
      "bestTest = 15.92639732\n",
      "bestIteration = 1799\n",
      "_______________________________________________________\n",
      "Start\n"
     ]
    },
    {
     "name": "stderr",
     "output_type": "stream",
     "text": [
      "Default metric period is 5 because MAE is/are not implemented for GPU\n"
     ]
    },
    {
     "name": "stdout",
     "output_type": "stream",
     "text": [
      "0:\tlearn: 139.1973969\ttest: 140.3160463\tbest: 140.3160463 (0)\ttotal: 116ms\tremaining: 3m 28s\n",
      "100:\tlearn: 21.0508990\ttest: 22.6585861\tbest: 22.6585861 (100)\ttotal: 8.31s\tremaining: 2m 19s\n",
      "200:\tlearn: 17.6050094\ttest: 20.1620609\tbest: 20.1620609 (200)\ttotal: 16.5s\tremaining: 2m 11s\n",
      "300:\tlearn: 15.6554710\ttest: 18.8856717\tbest: 18.8856717 (300)\ttotal: 24.8s\tremaining: 2m 3s\n",
      "400:\tlearn: 14.2665552\ttest: 18.0617558\tbest: 18.0617558 (400)\ttotal: 33.3s\tremaining: 1m 56s\n",
      "500:\tlearn: 13.1443066\ttest: 17.4029790\tbest: 17.4029790 (500)\ttotal: 41.6s\tremaining: 1m 47s\n",
      "600:\tlearn: 12.2668140\ttest: 16.9097757\tbest: 16.9097757 (600)\ttotal: 49.8s\tremaining: 1m 39s\n",
      "700:\tlearn: 11.5237787\ttest: 16.4937254\tbest: 16.4937254 (700)\ttotal: 58.1s\tremaining: 1m 31s\n",
      "800:\tlearn: 10.8586991\ttest: 16.1294471\tbest: 16.1294471 (800)\ttotal: 1m 6s\tremaining: 1m 22s\n",
      "900:\tlearn: 10.3162888\ttest: 15.8450612\tbest: 15.8450612 (900)\ttotal: 1m 14s\tremaining: 1m 14s\n",
      "1000:\tlearn: 9.8238771\ttest: 15.6016672\tbest: 15.6016672 (1000)\ttotal: 1m 22s\tremaining: 1m 6s\n",
      "1100:\tlearn: 9.3798717\ttest: 15.3881961\tbest: 15.3881961 (1100)\ttotal: 1m 31s\tremaining: 58s\n",
      "1200:\tlearn: 8.9415446\ttest: 15.1680434\tbest: 15.1680434 (1200)\ttotal: 1m 39s\tremaining: 49.7s\n",
      "1300:\tlearn: 8.5919502\ttest: 15.0042890\tbest: 15.0042890 (1300)\ttotal: 1m 48s\tremaining: 41.4s\n",
      "1400:\tlearn: 8.2568444\ttest: 14.8576224\tbest: 14.8576224 (1400)\ttotal: 1m 56s\tremaining: 33.1s\n",
      "1500:\tlearn: 7.9297983\ttest: 14.7071844\tbest: 14.7071844 (1500)\ttotal: 2m 4s\tremaining: 24.9s\n",
      "1600:\tlearn: 7.6347524\ttest: 14.5752735\tbest: 14.5752735 (1600)\ttotal: 2m 13s\tremaining: 16.6s\n",
      "1700:\tlearn: 7.3643562\ttest: 14.4564807\tbest: 14.4564807 (1700)\ttotal: 2m 21s\tremaining: 8.24s\n",
      "1799:\tlearn: 7.1278165\ttest: 14.3632628\tbest: 14.3632628 (1799)\ttotal: 2m 29s\tremaining: 0us\n",
      "bestTest = 14.36326283\n",
      "bestIteration = 1799\n",
      "_______________________________________________________\n",
      "Start\n"
     ]
    },
    {
     "name": "stderr",
     "output_type": "stream",
     "text": [
      "Default metric period is 5 because MAE is/are not implemented for GPU\n"
     ]
    },
    {
     "name": "stdout",
     "output_type": "stream",
     "text": [
      "0:\tlearn: 147.7602276\ttest: 149.0163508\tbest: 149.0163508 (0)\ttotal: 76.2ms\tremaining: 2m 17s\n",
      "100:\tlearn: 24.7975891\ttest: 25.4832194\tbest: 25.4832194 (100)\ttotal: 5.19s\tremaining: 1m 27s\n",
      "200:\tlearn: 21.3844694\ttest: 22.6051450\tbest: 22.6051450 (200)\ttotal: 10.4s\tremaining: 1m 22s\n",
      "300:\tlearn: 19.6114837\ttest: 21.2856542\tbest: 21.2856542 (300)\ttotal: 15.5s\tremaining: 1m 17s\n",
      "400:\tlearn: 18.3106816\ttest: 20.3415561\tbest: 20.3415561 (400)\ttotal: 20.6s\tremaining: 1m 11s\n",
      "500:\tlearn: 17.2667671\ttest: 19.5853709\tbest: 19.5853709 (500)\ttotal: 25.8s\tremaining: 1m 6s\n",
      "600:\tlearn: 16.4303711\ttest: 19.0152853\tbest: 19.0152853 (600)\ttotal: 30.9s\tremaining: 1m 1s\n",
      "700:\tlearn: 15.7201964\ttest: 18.5390306\tbest: 18.5390306 (700)\ttotal: 36s\tremaining: 56.4s\n",
      "800:\tlearn: 15.1032962\ttest: 18.1144811\tbest: 18.1144811 (800)\ttotal: 41.2s\tremaining: 51.4s\n",
      "900:\tlearn: 14.5396331\ttest: 17.7318059\tbest: 17.7318059 (900)\ttotal: 46.4s\tremaining: 46.3s\n",
      "1000:\tlearn: 14.0432805\ttest: 17.3976397\tbest: 17.3976397 (1000)\ttotal: 51.6s\tremaining: 41.2s\n",
      "1100:\tlearn: 13.5597585\ttest: 17.0964611\tbest: 17.0964611 (1100)\ttotal: 56.8s\tremaining: 36.1s\n",
      "1200:\tlearn: 13.1440795\ttest: 16.8437506\tbest: 16.8437506 (1200)\ttotal: 1m 1s\tremaining: 30.9s\n",
      "1300:\tlearn: 12.7570434\ttest: 16.6129117\tbest: 16.6129117 (1300)\ttotal: 1m 7s\tremaining: 25.8s\n",
      "1400:\tlearn: 12.4035217\ttest: 16.3949428\tbest: 16.3949428 (1400)\ttotal: 1m 12s\tremaining: 20.6s\n",
      "1500:\tlearn: 12.0672740\ttest: 16.1914178\tbest: 16.1914178 (1500)\ttotal: 1m 17s\tremaining: 15.5s\n",
      "1600:\tlearn: 11.7795319\ttest: 16.0319297\tbest: 16.0319297 (1600)\ttotal: 1m 22s\tremaining: 10.3s\n",
      "1700:\tlearn: 11.4982550\ttest: 15.8747541\tbest: 15.8747541 (1700)\ttotal: 1m 27s\tremaining: 5.12s\n",
      "1799:\tlearn: 11.2179157\ttest: 15.7088582\tbest: 15.7088582 (1799)\ttotal: 1m 33s\tremaining: 0us\n",
      "bestTest = 15.70885823\n",
      "bestIteration = 1799\n"
     ]
    }
   ],
   "source": [
    "\n",
    "for cat_model in [cat1, cat2, cat3, cat4]:\n",
    "    print('_______________________________________________________')\n",
    "    print('Start')\n",
    "\n",
    "    # Обучение модели CatBoost\n",
    "    cat_model.fit(\n",
    "        X2tr, y2tr, \n",
    "        eval_set=[(X2val, y2val)], \n",
    "        early_stopping_rounds=100, \n",
    "        verbose=100  # Вывод информации каждые 100 итераций\n",
    "    ) "
   ]
  },
  {
   "cell_type": "code",
   "execution_count": 28,
   "id": "79ac48e2",
   "metadata": {
    "execution": {
     "iopub.execute_input": "2023-12-27T14:53:06.274602Z",
     "iopub.status.busy": "2023-12-27T14:53:06.273415Z",
     "iopub.status.idle": "2023-12-27T14:53:06.417961Z",
     "shell.execute_reply": "2023-12-27T14:53:06.416955Z"
    },
    "papermill": {
     "duration": 0.21116,
     "end_time": "2023-12-27T14:53:06.420821",
     "exception": false,
     "start_time": "2023-12-27T14:53:06.209661",
     "status": "completed"
    },
    "tags": []
   },
   "outputs": [
    {
     "data": {
      "text/plain": [
       "0"
      ]
     },
     "execution_count": 28,
     "metadata": {},
     "output_type": "execute_result"
    }
   ],
   "source": [
    "gc.collect()"
   ]
  },
  {
   "cell_type": "markdown",
   "id": "035d90b3",
   "metadata": {
    "execution": {
     "iopub.execute_input": "2023-11-19T18:26:07.884617Z",
     "iopub.status.busy": "2023-11-19T18:26:07.884215Z",
     "iopub.status.idle": "2023-11-19T18:26:07.889926Z",
     "shell.execute_reply": "2023-11-19T18:26:07.888991Z",
     "shell.execute_reply.started": "2023-11-19T18:26:07.884584Z"
    },
    "papermill": {
     "duration": 0.06191,
     "end_time": "2023-12-27T14:53:06.547132",
     "exception": false,
     "start_time": "2023-12-27T14:53:06.485222",
     "status": "completed"
    },
    "tags": []
   },
   "source": [
    "## Feature Engineering for Test Data"
   ]
  },
  {
   "cell_type": "code",
   "execution_count": 29,
   "id": "14b01753",
   "metadata": {
    "execution": {
     "iopub.execute_input": "2023-12-27T14:53:06.674974Z",
     "iopub.status.busy": "2023-12-27T14:53:06.674575Z",
     "iopub.status.idle": "2023-12-27T14:53:06.708803Z",
     "shell.execute_reply": "2023-12-27T14:53:06.707974Z"
    },
    "papermill": {
     "duration": 0.102124,
     "end_time": "2023-12-27T14:53:06.711142",
     "exception": false,
     "start_time": "2023-12-27T14:53:06.609018",
     "status": "completed"
    },
    "tags": []
   },
   "outputs": [],
   "source": [
    "def feat_eng_test(data, client, hist_weather, forecast_weather, electricity, gas, locations):\n",
    "    \n",
    "    data= data.rename(columns={'prediction_datetime' : 'datetime'})\n",
    "    data['datetime'] = pd.to_datetime(data['datetime'], utc=True)\n",
    "        \n",
    "    electricity = electricity.rename(columns= {'forecast_date' : 'datetime'})    \n",
    "    electricity['datetime'] = pd.to_datetime(electricity['datetime'], utc= True)\n",
    "\n",
    "    locations = locations.drop('Unnamed: 0', axis= 1) \n",
    "        \n",
    "    forecast_weather[['latitude', 'longitude']] = forecast_weather[['latitude', 'longitude']].astype(float).round(1)   \n",
    "    forecast_weather= forecast_weather.merge(locations, how='left', on=['longitude','latitude'])\n",
    "    forecast_weather.dropna(axis= 0, inplace= True)    \n",
    "    forecast_weather['county'] = forecast_weather['county'].astype('int64')\n",
    "    forecast_weather.drop(['origin_datetime', 'latitude', 'longitude', 'hours_ahead', 'data_block_id'], axis=1, inplace= True)\n",
    "    forecast_weather.rename(columns={'forecast_datetime': 'datetime'}, inplace= True)\n",
    "    forecast_weather['datetime']= pd.to_datetime(forecast_weather['datetime'], utc= True)\n",
    "    \n",
    "    forecast_weather_datetime= forecast_weather.groupby([forecast_weather['datetime'].dt.to_period('h')])[list(forecast_weather.drop(['county','datetime'], axis= 1).columns)].mean().reset_index()\n",
    "    forecast_weather_datetime['datetime']= pd.to_datetime(forecast_weather_datetime['datetime'].dt.to_timestamp(), utc=True)\n",
    "    forecast_weather_datetime_county= forecast_weather.groupby(['county',forecast_weather['datetime'].dt.to_period('h')])[list(forecast_weather.drop(['county','datetime'], axis= 1).columns)].mean().reset_index()\n",
    "    forecast_weather_datetime_county['datetime']= pd.to_datetime(forecast_weather_datetime_county['datetime'].dt.to_timestamp(), utc=True)\n",
    "          \n",
    "    hist_weather[['latitude', 'longitude']] = hist_weather[['latitude', 'longitude']].astype(float).round(1)\n",
    "    hist_weather= hist_weather.merge(locations, how='left', on=['longitude','latitude'])    \n",
    "    hist_weather.dropna(axis= 0, inplace= True)\n",
    "    hist_weather.drop(['latitude', 'longitude'], axis=1, inplace= True)\n",
    "    hist_weather['county'] = hist_weather['county'].astype('int64')\n",
    "    hist_weather['datetime']= pd.to_datetime(hist_weather['datetime'], utc= True)\n",
    "    hist_weather_datetime= hist_weather.groupby([hist_weather['datetime'].dt.to_period('h')])[list(hist_weather.drop(['county','datetime', 'data_block_id'], axis= 1).columns)].mean().reset_index()    \n",
    "    hist_weather_datetime['datetime']= pd.to_datetime(hist_weather_datetime['datetime'].dt.to_timestamp(), utc=True)\n",
    "    hist_weather_datetime= hist_weather_datetime.merge(hist_weather[['datetime', 'data_block_id']], how='left', on='datetime')\n",
    "    hist_weather_datetime_county= hist_weather.groupby(['county',hist_weather['datetime'].dt.to_period('h')])[list(hist_weather.drop(['county','datetime', 'data_block_id'], axis= 1).columns)].mean().reset_index() \n",
    "    hist_weather_datetime_county['datetime']= pd.to_datetime(hist_weather_datetime_county['datetime'].dt.to_timestamp(), utc=True)\n",
    "    hist_weather_datetime_county= hist_weather_datetime_county.merge(hist_weather[['datetime', 'data_block_id']], how='left', on='datetime')\n",
    "    \n",
    "    data['year'] = data['datetime'].dt.year \n",
    "    data['month'] = data['datetime'].dt.month\n",
    "    data['day'] = data['datetime'].dt.day\n",
    "    data['hour'] = data['datetime'].dt.hour\n",
    "    data['dayofweek']= data['datetime'].dt.dayofweek\n",
    "    data['dayofyear']= data['datetime'].dt.dayofyear\n",
    "        \n",
    "    electricity['hour'] = electricity['datetime'].dt.hour\n",
    "\n",
    "    data= data.merge(client.drop(columns = ['date']), how='left', on=['data_block_id', 'county', 'is_business', 'product_type'])\n",
    "    data= data.merge(gas[['data_block_id', 'lowest_price_per_mwh', 'highest_price_per_mwh']], how='left', on='data_block_id')\n",
    "    data= data.merge(electricity[['euros_per_mwh', 'hour', 'data_block_id']], how='left', on=['hour', 'data_block_id'])\n",
    "    data= data.merge(forecast_weather_datetime, how='left', on=['datetime'])\n",
    "    data= data.merge(forecast_weather_datetime_county, how='left', on=['datetime', 'county'],suffixes= ('_fcast_mean','_fcast_mean_by_county')) \n",
    "    \n",
    "    hist_weather_datetime['hour']= hist_weather_datetime['datetime'].dt.hour\n",
    "    hist_weather_datetime_county['hour']= hist_weather_datetime_county['datetime'].dt.hour\n",
    "    hist_weather_datetime.drop_duplicates(inplace=True)\n",
    "    hist_weather_datetime_county.drop_duplicates(inplace=True)\n",
    "    hist_weather_datetime.drop('datetime', axis= 1, inplace= True)\n",
    "    hist_weather_datetime_county.drop('datetime', axis= 1, inplace= True)\n",
    "\n",
    "    data= data.merge(hist_weather_datetime, how='left', on=['data_block_id', 'hour'])\n",
    "    data= data.merge(hist_weather_datetime_county, how='left', on=['data_block_id', 'county', 'hour'],suffixes= ('_hist_mean','_hist_mean_by_county'))\n",
    "    data= data.groupby(['year', 'day', 'hour'], as_index=False).apply(lambda x: x.ffill().bfill()).reset_index()\n",
    "    data.drop(['level_0', 'level_1', 'row_id', 'data_block_id'], axis= 1, inplace= True)\n",
    "    \n",
    "    return data"
   ]
  },
  {
   "cell_type": "code",
   "execution_count": 30,
   "id": "8f787534",
   "metadata": {
    "execution": {
     "iopub.execute_input": "2023-12-27T14:53:06.807277Z",
     "iopub.status.busy": "2023-12-27T14:53:06.806941Z",
     "iopub.status.idle": "2023-12-27T14:53:06.815282Z",
     "shell.execute_reply": "2023-12-27T14:53:06.814459Z"
    },
    "papermill": {
     "duration": 0.055939,
     "end_time": "2023-12-27T14:53:06.817110",
     "exception": false,
     "start_time": "2023-12-27T14:53:06.761171",
     "status": "completed"
    },
    "tags": []
   },
   "outputs": [],
   "source": [
    "def create_revealed_targets_test(data, previous_revealed_targets, N_day_lags):\n",
    "    # Create new test data based on previous_revealed_targets and N_day_lags \n",
    "    \n",
    "    for count, revealed_targets in enumerate(previous_revealed_targets) :\n",
    "        day_lag = count + 2\n",
    "        revealed_targets['hour'] = pd.to_datetime(revealed_targets['datetime'], utc= True).dt.hour\n",
    "        \n",
    "        revealed_targets = revealed_targets[['hour', 'prediction_unit_id', 'is_consumption', 'target']]\n",
    "        revealed_targets = revealed_targets.rename(columns = {\"target\" : f\"target_{day_lag}_days_ago\"})\n",
    "        data = pd.merge(data,revealed_targets,how = 'left',on = ['hour', 'prediction_unit_id', 'is_consumption'],)\n",
    "        \n",
    "    all_revealed_columns = [f\"target_{day_lag}_days_ago\" for day_lag in range(2, N_day_lags+1)]\n",
    "    missing_columns = list(set(all_revealed_columns) - set(data.columns))\n",
    "    data[missing_columns] = np.nan \n",
    "    \n",
    "    return data"
   ]
  },
  {
   "cell_type": "markdown",
   "id": "fc36f711",
   "metadata": {
    "execution": {
     "iopub.execute_input": "2023-12-17T19:52:39.007738Z",
     "iopub.status.busy": "2023-12-17T19:52:39.007305Z",
     "iopub.status.idle": "2023-12-17T19:52:39.012084Z",
     "shell.execute_reply": "2023-12-17T19:52:39.011305Z",
     "shell.execute_reply.started": "2023-12-17T19:52:39.007703Z"
    },
    "papermill": {
     "duration": 0.046126,
     "end_time": "2023-12-27T14:53:06.908227",
     "exception": false,
     "start_time": "2023-12-27T14:53:06.862101",
     "status": "completed"
    },
    "tags": []
   },
   "source": [
    "## Submission"
   ]
  },
  {
   "cell_type": "code",
   "execution_count": 31,
   "id": "80153a02",
   "metadata": {
    "execution": {
     "iopub.execute_input": "2023-12-27T14:53:06.999757Z",
     "iopub.status.busy": "2023-12-27T14:53:06.999479Z",
     "iopub.status.idle": "2023-12-27T14:53:52.141742Z",
     "shell.execute_reply": "2023-12-27T14:53:52.140973Z"
    },
    "papermill": {
     "duration": 45.190947,
     "end_time": "2023-12-27T14:53:52.144172",
     "exception": false,
     "start_time": "2023-12-27T14:53:06.953225",
     "status": "completed"
    },
    "tags": []
   },
   "outputs": [
    {
     "name": "stdout",
     "output_type": "stream",
     "text": [
      "This version of the API is not optimized and should not be used to estimate the runtime of your code on the hidden test set.\n"
     ]
    }
   ],
   "source": [
    "previous_revealed_targets = []\n",
    "env = enefit.make_env()\n",
    "iter_test = env.iter_test()\n",
    "for (test, revealed_targets, client_test, historical_weather_test,\n",
    "     forecast_weather_test, electricity_test, gas_test,sample_prediction) in iter_test:\n",
    "    \n",
    "    # Rename test set to make consistent with train\n",
    "    test = test.rename(columns = {'prediction_datetime': 'datetime'})\n",
    "    \n",
    "    id_column = 'data_block_id' \n",
    "    \n",
    "    test[id_column] = 0\n",
    "    gas_test[id_column] = 0\n",
    "    electricity_test[id_column] = 0\n",
    "    historical_weather_test[id_column] = 0\n",
    "    forecast_weather_test[id_column] = 0\n",
    "    client_test[id_column] = 0\n",
    "    revealed_targets[id_column] = 0\n",
    "    \n",
    "    data_test = feat_eng_test(test, client_test, historical_weather_test,forecast_weather_test, electricity_test, gas_test, locations)\n",
    "    \n",
    "    data_test['datetime']= pd.to_datetime(data_test['datetime'], utc= True).astype('int64')\n",
    "    \n",
    "    previous_revealed_targets.insert(0, revealed_targets)\n",
    "    if len(previous_revealed_targets) == N_day_lags:\n",
    "        previous_revealed_targets.pop()\n",
    "    \n",
    "    df_test = create_revealed_targets_test(data = data_test.copy(),previous_revealed_targets = previous_revealed_targets.copy(), N_day_lags = N_day_lags)\n",
    "    \n",
    "    #Data Transformation\n",
    "    df_test['sin_hour']= (np.pi * np.sin(df_test['hour']) / 12)\n",
    "    df_test['cos_hour']= (np.pi * np.cos(df_test['hour']) / 12)\n",
    "    df_test['sin_hour']= (np.pi * np.sin(df_test['hour']) / 12)\n",
    "    df_test['cos_hour']= (np.pi * np.cos(df_test['hour']) / 12)\n",
    "    df_test['sin_dayofyear']= (np.pi * np.sin(df_test['dayofyear']) / 183)\n",
    "    df_test['cos_dayofyear']= (np.pi * np.cos(df_test['dayofyear']) / 183)\n",
    "    df_test['target_mean']= df_test[[f'target_{i}_days_ago' for i in range(2, N_day_lags+1)]].mean(1)\n",
    "    df_test['target_std']= df_test[[f'target_{i}_days_ago' for i in range(2, N_day_lags+1)]].std(1)\n",
    "    df_test['target_var']= df_test[[f'target_{i}_days_ago' for i in range(2, N_day_lags+1)]].var(1)\n",
    "    for i in to_log:\n",
    "        df_test[f\"log_{i}\"]= np.where((df_test[i])!= 0, np.log(df_test[i]),0)\n",
    "    X_test = df_test.drop('currently_scored', axis= 1).values\n",
    "    \n",
    "    # Предсказания\n",
    "    # lgbp///////////////////////////\n",
    "    # Создание списка для хранения предсказаний каждой модели\n",
    "    target_list = []\n",
    "    # Проход по списку моделей и добавление предсказаний каждой модели в список\n",
    "    for mod in [lgbp1, lgbp2, lgbp3, lgbp4]:\n",
    "        # Добавление предсказаний модели в список target_list\n",
    "        # Вызов метода .predict() для модели и применение метода .clip(0) для ограничения предсказаний минимальным значением 0\n",
    "        target_list.append(mod.predict(X_test).clip(0))\n",
    "\n",
    "    \n",
    "        # Вычисление взвешенного среднего для предсказаний\n",
    "    # Каждое предсказание из target_list умножается на свой вес и суммируется для получения итогового предсказания\n",
    "    pred = (target_list[0] * 0.3) + (target_list[1] * 0.27) + (target_list[2] * 0.23) + (target_list[3] * 0.2)\n",
    "    # Присваивание итогового предсказания столбцу 'target' в DataFrame test\n",
    "    test['target'] = pred\n",
    "    # cat///////////////////////////\n",
    "    # Повторение процесса выше для целевой переменной, связанной с солнечной энергией\n",
    "    tsolar_list = []\n",
    "    # Применение каждой модели CatBoost для прогнозирования и добавление результатов в список tsolar_list\n",
    "    for model in [cat1, cat2, cat3, cat4]:\n",
    "        tsolar_list.append(model.predict(X_test).clip(0))  # Прогноз и ограничение его нижней границей на 0\n",
    "\n",
    "    # Вычисление взвешенного среднего для предсказаний\n",
    "    pred_solar = (tsolar_list[0] * 0.25) + (tsolar_list[1] * 0.25) + (tsolar_list[2] * 0.25) + (tsolar_list[3] * 0.25)\n",
    "\n",
    "    # Присваивание итогового предсказания столбцу 'target_solar' в DataFrame test\n",
    "    test['target_solar'] = pred_solar\n",
    "\n",
    "    \n",
    "#     # Повторение процесса выше для целевой переменной, связанной с солнечной энергией\n",
    "#     tsolar_list = []\n",
    "#     # Применение каждой модели для прогнозирования и добавление результатов в список tsolar_list\n",
    "#     for mod in [lgbn1, lgbn2, lgbn3, lgbn4]:\n",
    "#         tsolar_list.append(mod.predict(X_test).clip(0))  # Прогноз и ограничение его нижней границей на 0\n",
    "#     # Вычисление взвешенного среднего для предсказаний солнечной энергии\n",
    "#     pred_solar = (tsolar_list[0] * 0.3) + (tsolar_list[1] * 0.27) + (tsolar_list[2] * 0.23) + (tsolar_list[3] * 0.2)\n",
    "#     # Присваивание итогового предсказания солнечной энергии столбцу 'target_solar' в DataFrame test\n",
    "#     test['target_solar'] = pred_solar\n",
    "\n",
    "    \n",
    "    gc.collect()\n",
    "    \n",
    "    test.loc[test['is_consumption']==0, \"target\"] = test.loc[test['is_consumption']==0, \"target_solar\"]  \n",
    "    sample_prediction[\"target\"] = test['target']\n",
    "    \n",
    "    #Sending predictions to the API\n",
    "    env.predict(sample_prediction)"
   ]
  }
 ],
 "metadata": {
  "kaggle": {
   "accelerator": "nvidiaTeslaT4",
   "dataSources": [
    {
     "databundleVersionId": 7292407,
     "sourceId": 57236,
     "sourceType": "competition"
    },
    {
     "datasetId": 4181108,
     "sourceId": 7223258,
     "sourceType": "datasetVersion"
    }
   ],
   "dockerImageVersionId": 30627,
   "isGpuEnabled": true,
   "isInternetEnabled": false,
   "language": "python",
   "sourceType": "notebook"
  },
  "kernelspec": {
   "display_name": "Python 3",
   "language": "python",
   "name": "python3"
  },
  "language_info": {
   "codemirror_mode": {
    "name": "ipython",
    "version": 3
   },
   "file_extension": ".py",
   "mimetype": "text/x-python",
   "name": "python",
   "nbconvert_exporter": "python",
   "pygments_lexer": "ipython3",
   "version": "3.10.12"
  },
  "papermill": {
   "default_parameters": {},
   "duration": 8639.434048,
   "end_time": "2023-12-27T14:53:54.662096",
   "environment_variables": {},
   "exception": null,
   "input_path": "__notebook__.ipynb",
   "output_path": "__notebook__.ipynb",
   "parameters": {},
   "start_time": "2023-12-27T12:29:55.228048",
   "version": "2.4.0"
  }
 },
 "nbformat": 4,
 "nbformat_minor": 5
}
